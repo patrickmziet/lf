{
 "cells": [
  {
   "attachments": {},
   "cell_type": "markdown",
   "metadata": {},
   "source": [
    "### Overview"
   ]
  },
  {
   "attachments": {},
   "cell_type": "markdown",
   "metadata": {},
   "source": [
    "User uploads documents, cards are made from them, then they study them."
   ]
  },
  {
   "attachments": {},
   "cell_type": "markdown",
   "metadata": {},
   "source": [
    "### Upload and process documents"
   ]
  },
  {
   "attachments": {},
   "cell_type": "markdown",
   "metadata": {},
   "source": [
    "\n",
    "- Resources: \n",
    "-- (a) Users can upload:\n",
    "--- (i) pdfs\n",
    "--- (iii) powerpoint and word docs\n",
    "--- (iv) past exams\n",
    "--- (v) links to websites/blog posts (?)\n",
    "--- (vi) transcripts of debates (?)\n",
    "\n",
    "- Search web: The AI will search the web based on the topic name, documents uploaded and suggest any other websites that may be relevant. It should:\n",
    "-- (a) Desribe the resource\n",
    "-- (b) Give link to source\n",
    "-- (c) show simple + / - to include or remove the document respectively\n",
    "\n",
    "- Suggested title: Give users the option to refresh the topic name based on the new resources\n",
    "\n",
    "- Learn button takes you too the learn page"
   ]
  },
  {
   "attachments": {},
   "cell_type": "markdown",
   "metadata": {},
   "source": [
    "#### Process documents"
   ]
  },
  {
   "cell_type": "code",
   "execution_count": 11,
   "metadata": {},
   "outputs": [
    {
     "name": "stdout",
     "output_type": "stream",
     "text": [
      "Defaulting to user installation because normal site-packages is not writeable\n",
      "Requirement already satisfied: PyPDF2 in /home/ztkpat001/.local/lib/python3.10/site-packages (3.0.1)\n",
      "Defaulting to user installation because normal site-packages is not writeable\n",
      "Collecting python-docx\n",
      "  Downloading python_docx-1.1.0-py3-none-any.whl (239 kB)\n",
      "\u001b[2K     \u001b[90m━━━━━━━━━━━━━━━━━━━━━━━━━━━━━━━━━━━━━━━\u001b[0m \u001b[32m239.6/239.6 KB\u001b[0m \u001b[31m4.7 MB/s\u001b[0m eta \u001b[36m0:00:00\u001b[0ma \u001b[36m0:00:01\u001b[0m\n",
      "\u001b[?25hCollecting typing-extensions\n",
      "  Downloading typing_extensions-4.9.0-py3-none-any.whl (32 kB)\n",
      "Requirement already satisfied: lxml>=3.1.0 in /home/ztkpat001/.local/lib/python3.10/site-packages (from python-docx) (5.1.0)\n",
      "Installing collected packages: typing-extensions, python-docx\n",
      "Successfully installed python-docx-1.1.0 typing-extensions-4.9.0\n"
     ]
    }
   ],
   "source": [
    "!pip install PyPDF2\n",
    "!pip install python-docx"
   ]
  },
  {
   "cell_type": "code",
   "execution_count": 12,
   "metadata": {},
   "outputs": [],
   "source": [
    "import PyPDF2\n",
    "import docx\n",
    "\n",
    "def read_txt(file_path):\n",
    "    with open(file_path, 'r', encoding='utf-8') as file:\n",
    "        return file.read()\n",
    "\n",
    "def read_pdf(file_path):\n",
    "    text = \"\"\n",
    "    with open(file_path, 'rb') as file:\n",
    "        pdf_reader = PyPDF2.PdfReader(file)\n",
    "        for page_num in range(len(pdf_reader.pages)):\n",
    "            text += pdf_reader.pages[page_num].extract_text()\n",
    "    return text\n",
    "\n",
    "def read_docx(file_path):\n",
    "    doc = docx.Document(file_path)\n",
    "    text = \"\"\n",
    "    for para in doc.paragraphs:\n",
    "        text += para.text\n",
    "    return text\n",
    "\n",
    "def read_file(file_path):\n",
    "    if file_path.endswith('.txt'):\n",
    "        return read_txt(file_path)\n",
    "    elif file_path.endswith('.pdf'):\n",
    "        return read_pdf(file_path)\n",
    "    elif file_path.endswith('.docx'):\n",
    "        return read_docx(file_path)\n",
    "    else:\n",
    "        raise ValueError(\"Unsupported file format\")"
   ]
  },
  {
   "cell_type": "code",
   "execution_count": 16,
   "metadata": {},
   "outputs": [
    {
     "name": "stdout",
     "output_type": "stream",
     "text": [
      "The Industrial Revolution was the transition to new manufacturing processes in Great Britain, \n",
      "continental Europe, and the United States, that occurred during the period from around 1760 to about \n",
      "1820–1840. This transition included going from hand production methods to machines; new chemical \n",
      "manufacturing and iron production processes; the increasing use of water power and steam power; the \n",
      "development of machine tools; and the rise of the mechanized factory system. Output greatly increased, \n",
      "and a re sult was an unprecedented rise in population and in the rate of population growth. The textile \n",
      "industry was the first to use modern production methods, and textiles became the dominant industry in \n",
      "terms of employment, value of output, and capital invested.  \n",
      " \n",
      " \n",
      "The Industrial Revolution began in Great Britain, and many of the technological and architectural \n",
      "innovations were of British origin. By the mid -18th century, Britain was the world's leading commercial \n",
      "nation, controlling a global trading empire with co lonies in North America and the Caribbean. Britain had \n",
      "major military and political hegemony on the Indian subcontinent; particularly with the proto -\n",
      "industrialised Mughal Bengal, through the activities of the East India Company. The development of \n",
      "trade an d the rise of business were among the major causes of the Industrial Revolution.  \n",
      " \n",
      " \n",
      "The Industrial Revolution marked a major turning point in history. Comparable only to humanity's \n",
      "adoption of agriculture with respect to material advancement, the Industrial  Revolution influenced in \n",
      "some way almost every aspect of daily life. In particular, average income and population began to \n",
      "exhibit unprecedented sustained growth. Some economists have said the most important effect of the \n",
      "Industrial Revolution was that th e standard of living for the general population in the Western world \n",
      "began to increase consistently for the first time in history, although others have said that it did not begin \n",
      "to meaningfully improve until the late 19th and 20th centuries. GDP per capit a was broadly stable \n",
      "before the Industrial Revolution and the emergence of the modern capitalist economy, while the \n",
      "Industrial Revolution began an era of per -capita economic growth in capitalist economies. Economic \n",
      "historians are in agreement that the onse t of the Industrial Revolution is the most important event in \n",
      "human history since the domestication of animals and plants.  \n",
      " \n",
      " \n",
      "The precise start and end of the Industrial Revolution is still debated among historians, as is the pace of \n",
      "economic and social cha nges. Eric Hobsbawm held that the Industrial Revolution began in Britain in the \n",
      "1780s and was not fully felt until the 1830s or 1840s, while T. S. Ashton held that it occurred roughly \n",
      "between 1760 and 1830. Rapid industrialisation first began in Britain, s tarting with mechanized textiles \n",
      "spinning in the 1780s, with high rates of growth in steam power and iron production occurring after \n",
      "1800. Mechanized textile production spread from Great Britain to continental Europe and the United \n",
      "States in the early 19th  century, with important centres of textiles, iron and coal emerging in Belgium \n",
      "and the United States and later textiles in France.   \n",
      " \n",
      "An economic recession occurred from the late 1830s to the early 1840s when the adoption of the \n",
      "Industrial Revolution's ear ly innovations, such as mechanized spinning and weaving, slowed and their \n",
      "markets matured. Innovations developed late in the period, such as the increasing adoption of \n",
      "locomotives, steamboats and steamships, and hot blast iron smelting. New technologies su ch as the \n",
      "electrical telegraph, widely introduced in the 1840s and 1850s, were not powerful enough to drive high \n",
      "rates of growth. Rapid economic growth began to occur after 1870, springing from a new group of \n",
      "innovations in what has been called the Second Industrial Revolution. These innovations included new \n",
      "steel making processes, mass production, assembly lines, electrical grid systems, the large -scale \n",
      "manufacture of machine tools, and the use of increasingly advanced machinery in steam -powered \n",
      "factories.  \n",
      " \n"
     ]
    }
   ],
   "source": [
    "# Upload and vectorize documents\n",
    "# PDFs \n",
    "doc_pdf = read_file(\"/home/ztkpat001/docs/aa.pdf\")\n",
    "print(doc_pdf)"
   ]
  },
  {
   "cell_type": "code",
   "execution_count": 17,
   "metadata": {},
   "outputs": [
    {
     "name": "stdout",
     "output_type": "stream",
     "text": [
      "The Industrial Revolution was the transition to new manufacturing processes in Great Britain, continental Europe, and the United States, that occurred during the period from around 1760 to about 1820–1840. This transition included going from hand production methods to machines; new chemical manufacturing and iron production processes; the increasing use of water power and steam power; the development of machine tools; and the rise of the mechanized factory system. Output greatly increased, and a result was an unprecedented rise in population and in the rate of population growth. The textile industry was the first to use modern production methods, and textiles became the dominant industry in terms of employment, value of output, and capital invested.\n",
      "The Industrial Revolution began in Great Britain, and many of the technological and architectural innovations were of British origin. By the mid-18th century, Britain was the world's leading commercial nation, controlling a global trading empire with colonies in North America and the Caribbean. Britain had major military and political hegemony on the Indian subcontinent; particularly with the proto-industrialised Mughal Bengal, through the activities of the East India Company. The development of trade and the rise of business were among the major causes of the Industrial Revolution.\n",
      "The Industrial Revolution marked a major turning point in history. Comparable only to humanity's adoption of agriculture with respect to material advancement, the Industrial Revolution influenced in some way almost every aspect of daily life. In particular, average income and population began to exhibit unprecedented sustained growth. Some economists have said the most important effect of the Industrial Revolution was that the standard of living for the general population in the Western world began to increase consistently for the first time in history, although others have said that it did not begin to meaningfully improve until the late 19th and 20th centuries. GDP per capita was broadly stable before the Industrial Revolution and the emergence of the modern capitalist economy, while the Industrial Revolution began an era of per-capita economic growth in capitalist economies. Economic historians are in agreement that the onset of the Industrial Revolution is the most important event in human history since the domestication of animals and plants.\n",
      "The precise start and end of the Industrial Revolution is still debated among historians, as is the pace of economic and social changes. Eric Hobsbawm held that the Industrial Revolution began in Britain in the 1780s and was not fully felt until the 1830s or 1840s, while T. S. Ashton held that it occurred roughly between 1760 and 1830. Rapid industrialisation first began in Britain, starting with mechanized textiles spinning in the 1780s, with high rates of growth in steam power and iron production occurring after 1800. Mechanized textile production spread from Great Britain to continental Europe and the United States in the early 19th century, with important centres of textiles, iron and coal emerging in Belgium and the United States and later textiles in France.\n",
      "An economic recession occurred from the late 1830s to the early 1840s when the adoption of the Industrial Revolution's early innovations, such as mechanized spinning and weaving, slowed and their markets matured. Innovations developed late in the period, such as the increasing adoption of locomotives, steamboats and steamships, and hot blast iron smelting. New technologies such as the electrical telegraph, widely introduced in the 1840s and 1850s, were not powerful enough to drive high rates of growth. Rapid economic growth began to occur after 1870, springing from a new group of innovations in what has been called the Second Industrial Revolution. These innovations included new steel making processes, mass production, assembly lines, electrical grid systems, the large-scale manufacture of machine tools, and the use of increasingly advanced machinery in steam-powered factories.\n"
     ]
    }
   ],
   "source": [
    "# Word documents\n",
    "doc_word = read_file('/home/ztkpat001/docs/aa.docx')\n",
    "print(doc_word)"
   ]
  },
  {
   "cell_type": "code",
   "execution_count": 19,
   "metadata": {},
   "outputs": [
    {
     "name": "stdout",
     "output_type": "stream",
     "text": [
      "The Industrial Revolution was the transition to new manufacturing processes in Great Britain, continental Europe, and the United States, that occurred during the period from around 1760 to about 1820–1840. This transition included going from hand production methods to machines; new chemical manufacturing and iron production processes; the increasing use of water power and steam power; the development of machine tools; and the rise of the mechanized factory system. Output greatly increased, and a result was an unprecedented rise in population and in the rate of population growth. The textile industry was the first to use modern production methods, and textiles became the dominant industry in terms of employment, value of output, and capital invested.\n",
      "\n",
      "The Industrial Revolution began in Great Britain, and many of the technological and architectural innovations were of British origin. By the mid-18th century, Britain was the world's leading commercial nation, controlling a global trading empire with colonies in North America and the Caribbean. Britain had major military and political hegemony on the Indian subcontinent; particularly with the proto-industrialised Mughal Bengal, through the activities of the East India Company. The development of trade and the rise of business were among the major causes of the Industrial Revolution.\n",
      "\n",
      "The Industrial Revolution marked a major turning point in history. Comparable only to humanity's adoption of agriculture with respect to material advancement, the Industrial Revolution influenced in some way almost every aspect of daily life. In particular, average income and population began to exhibit unprecedented sustained growth. Some economists have said the most important effect of the Industrial Revolution was that the standard of living for the general population in the Western world began to increase consistently for the first time in history, although others have said that it did not begin to meaningfully improve until the late 19th and 20th centuries. GDP per capita was broadly stable before the Industrial Revolution and the emergence of the modern capitalist economy, while the Industrial Revolution began an era of per-capita economic growth in capitalist economies. Economic historians are in agreement that the onset of the Industrial Revolution is the most important event in human history since the domestication of animals and plants.\n",
      "\n",
      "The precise start and end of the Industrial Revolution is still debated among historians, as is the pace of economic and social changes. Eric Hobsbawm held that the Industrial Revolution began in Britain in the 1780s and was not fully felt until the 1830s or 1840s, while T. S. Ashton held that it occurred roughly between 1760 and 1830. Rapid industrialisation first began in Britain, starting with mechanized textiles spinning in the 1780s, with high rates of growth in steam power and iron production occurring after 1800. Mechanized textile production spread from Great Britain to continental Europe and the United States in the early 19th century, with important centres of textiles, iron and coal emerging in Belgium and the United States and later textiles in France.\n",
      "\n",
      "An economic recession occurred from the late 1830s to the early 1840s when the adoption of the Industrial Revolution's early innovations, such as mechanized spinning and weaving, slowed and their markets matured. Innovations developed late in the period, such as the increasing adoption of locomotives, steamboats and steamships, and hot blast iron smelting. New technologies such as the electrical telegraph, widely introduced in the 1840s and 1850s, were not powerful enough to drive high rates of growth. Rapid economic growth began to occur after 1870, springing from a new group of innovations in what has been called the Second Industrial Revolution. These innovations included new steel making processes, mass production, assembly lines, electrical grid systems, the large-scale manufacture of machine tools, and the use of increasingly advanced machinery in steam-powered factories.\n",
      "\n"
     ]
    }
   ],
   "source": [
    "# Text files\n",
    "doc_txt = read_file('/home/ztkpat001/docs/aa.txt')\n",
    "print(doc_txt)"
   ]
  },
  {
   "cell_type": "code",
   "execution_count": 20,
   "metadata": {},
   "outputs": [
    {
     "data": {
      "text/plain": [
       "False"
      ]
     },
     "execution_count": 20,
     "metadata": {},
     "output_type": "execute_result"
    }
   ],
   "source": [
    "doc_pdf == doc_word == doc_txt"
   ]
  },
  {
   "attachments": {},
   "cell_type": "markdown",
   "metadata": {},
   "source": [
    "#### Make Rubric"
   ]
  },
  {
   "attachments": {},
   "cell_type": "markdown",
   "metadata": {},
   "source": [
    "This is not essential, avoid for now."
   ]
  },
  {
   "attachments": {},
   "cell_type": "markdown",
   "metadata": {},
   "source": [
    "#### Make flashcards"
   ]
  },
  {
   "cell_type": "code",
   "execution_count": 21,
   "metadata": {},
   "outputs": [],
   "source": [
    "# Prompt templates\n",
    "card_axioms = \"\"\"\n",
    "- Most flash cards should be atomic, i.e. they focus on a single piece of information.\n",
    "- Make sure that that some of the flash cards are trivial so that users are able to build up key context on the topic.\n",
    "- Avoid isolated flash cards which are not connected to other flash cards, that is ensure that the flash cards are connected to each other in such a way that when taken together they build up understanding.\n",
    "- Do not, under any circumstances, make flash cards containing information which is not found in the provived text.\n",
    "- The flash cards should be scholarly, intelligent although still easy to understand and not too long.\n",
    "\"\"\"\n",
    "\n",
    "card_format = \"\"\"\n",
    "- Flash card X:\n",
    "-- Question: Y\n",
    "-- Answer: Z\n",
    "\n",
    "Where X is the number of the flash card, Y is the question and Z is the answer. \n",
    "\"\"\"\n",
    "expert_extraction = \"\"\" \n",
    "Who are the top 3 foremost experts on the following topic:\n",
    "\n",
    "\"{topic}\"\n",
    "\n",
    "At the end of your response restate the expert's name in the following format:\n",
    "BEGIN \n",
    "expert_one and expert_two and expert_three\n",
    "END\n",
    "\"\"\"\n",
    "\n",
    "example_text = \"\"\"\n",
    "Madam Speaker, Madam Vice President, our First Lady and Second Gentleman. Members of Congress and the Cabinet. Justices of the Supreme Court. My fellow Americans.  \n",
    "\n",
    "Last year COVID-19 kept us apart. This year we are finally together again. \n",
    "\n",
    "Tonight, we meet as Democrats Republicans and Independents. But most importantly as Americans. \n",
    "\n",
    "With a duty to one another to the American people to the Constitution. \n",
    "\n",
    "And with an unwavering resolve that freedom will always triumph over tyranny. \n",
    "\n",
    "Six days ago, Russia’s Vladimir Putin sought to shake the foundations of the free world thinking he could make it bend to his menacing ways. But he badly miscalculated. \n",
    "\n",
    "He thought he could roll into Ukraine and the world would roll over. Instead he met a wall of strength he never imagined. \n",
    "\n",
    "He met the Ukrainian people. \n",
    "\n",
    "From President Zelenskyy to every Ukrainian, their fearlessness, their courage, their determination, inspires the world. \n",
    "\n",
    "Groups of citizens blocking tanks with their bodies. Everyone from students to retirees teachers turned soldiers defending their homeland. \n",
    "\n",
    "In this struggle as President Zelenskyy said in his speech to the European Parliament “Light will win over darkness.” The Ukrainian Ambassador to the United States is here tonight. \n",
    "\n",
    "Let each of us here tonight in this Chamber send an unmistakable signal to Ukraine and to the world. \n",
    "\n",
    "Please rise if you are able and show that, Yes, we the United States of America stand with the Ukrainian people. \n",
    "\n",
    "Throughout our history we’ve learned this lesson when dictators do not pay a price for their aggression they cause more chaos.   \n",
    "\n",
    "They keep moving.   \n",
    "\n",
    "And the costs and the threats to America and the world keep rising.   \n",
    "\n",
    "That’s why the NATO Alliance was created to secure peace and stability in Europe after World War 2. \n",
    "\n",
    "The United States is a member along with 29 other nations. \n",
    "\"\"\"\n",
    "\n",
    "example_flashcards = \"\"\"\n",
    "- Flash card 1:\n",
    "-- Question: How many members are in the NATO Alliance?\n",
    "-- Answer: 30\n",
    "- Flash card 2:\n",
    "-- Question: What is the name of the Ukrainian President?\n",
    "-- Answer: Volodymyr Zelenskyy\n",
    "- Flash card 3:\n",
    "-- Question: Who did the speaker of this speech greet first?\n",
    "-- Answer: Madam Speaker\n",
    "- Flash card 4:\n",
    "-- Question: Why was, according to the speaker, was NATO created?\n",
    "-- Answer: To secure peace and stability in Europe after World War 2.\n",
    "- Flash card 5:\n",
    "-- Question: Who from Russia is repsonsible for the invasion?\n",
    "-- Answer: Vladimir Putin\n",
    "- Flash card 6:\n",
    "-- Question: How many days before the speech did the invasion happen?\n",
    "-- Answer: 6 days\n",
    "\"\"\"\n",
    "\n",
    "get_flashcards_template = \"\"\"\n",
    "I want you to create flash cards to be used for studying. The cards should obey these axioms:\n",
    "\n",
    "{card_axioms}\n",
    "\n",
    "Here is an example. Here is the text in quotes:\n",
    "\n",
    "\"{example_text}\"\n",
    "\n",
    "Here are some example flash cards:\n",
    "\n",
    "{example_flashcards}\n",
    "\n",
    "Here is the text I want you to create flash cards from:\n",
    "\n",
    "\"{sample_text}\"\n",
    "\n",
    "The flash cards should have form:\n",
    "\n",
    "{card_format}\n",
    "\n",
    "Now provide {num_cards} flash cards on the above information. Make sure these flash cards would impress {experts}.\n",
    "\"\"\"\n",
    "\n",
    "indus_rev = \"\"\"\n",
    "The Industrial Revolution was the transition to new manufacturing processes in Great Britain, continental Europe, and the United States, that occurred during the period from around 1760 to about 1820–1840. This transition included going from hand production methods to machines; new chemical manufacturing and iron production processes; the increasing use of water power and steam power; the development of machine tools; and the rise of the mechanized factory system. Output greatly increased, and a result was an unprecedented rise in population and in the rate of population growth. The textile industry was the first to use modern production methods, and textiles became the dominant industry in terms of employment, value of output, and capital invested.\n",
    "\n",
    "The Industrial Revolution began in Great Britain, and many of the technological and architectural innovations were of British origin. By the mid-18th century, Britain was the world's leading commercial nation, controlling a global trading empire with colonies in North America and the Caribbean. Britain had major military and political hegemony on the Indian subcontinent; particularly with the proto-industrialised Mughal Bengal, through the activities of the East India Company. The development of trade and the rise of business were among the major causes of the Industrial Revolution.\n",
    "\n",
    "The Industrial Revolution marked a major turning point in history. Comparable only to humanity's adoption of agriculture with respect to material advancement, the Industrial Revolution influenced in some way almost every aspect of daily life. In particular, average income and population began to exhibit unprecedented sustained growth. Some economists have said the most important effect of the Industrial Revolution was that the standard of living for the general population in the Western world began to increase consistently for the first time in history, although others have said that it did not begin to meaningfully improve until the late 19th and 20th centuries. GDP per capita was broadly stable before the Industrial Revolution and the emergence of the modern capitalist economy, while the Industrial Revolution began an era of per-capita economic growth in capitalist economies. Economic historians are in agreement that the onset of the Industrial Revolution is the most important event in human history since the domestication of animals and plants.\n",
    "\n",
    "The precise start and end of the Industrial Revolution is still debated among historians, as is the pace of economic and social changes. Eric Hobsbawm held that the Industrial Revolution began in Britain in the 1780s and was not fully felt until the 1830s or 1840s, while T. S. Ashton held that it occurred roughly between 1760 and 1830. Rapid industrialisation first began in Britain, starting with mechanized textiles spinning in the 1780s, with high rates of growth in steam power and iron production occurring after 1800. Mechanized textile production spread from Great Britain to continental Europe and the United States in the early 19th century, with important centres of textiles, iron and coal emerging in Belgium and the United States and later textiles in France.\n",
    "\n",
    "An economic recession occurred from the late 1830s to the early 1840s when the adoption of the Industrial Revolution's early innovations, such as mechanized spinning and weaving, slowed and their markets matured. Innovations developed late in the period, such as the increasing adoption of locomotives, steamboats and steamships, and hot blast iron smelting. New technologies such as the electrical telegraph, widely introduced in the 1840s and 1850s, were not powerful enough to drive high rates of growth. Rapid economic growth began to occur after 1870, springing from a new group of innovations in what has been called the Second Industrial Revolution. These innovations included new steel making processes, mass production, assembly lines, electrical grid systems, the large-scale manufacture of machine tools, and the use of increasingly advanced machinery in steam-powered factories.\n",
    "\"\"\"\n",
    "\n",
    "prompt_checker = \"\"\" \n",
    "Given the original task:\n",
    "\n",
    "{task}\n",
    "\n",
    "And your response:\n",
    "\n",
    "{response}\n",
    "\n",
    "Assess whether all instructions where followed, specifically whether the axioms were obeyed and count the number of flashcards to ensure that {num_cards} were supplied. Giving your reasoning step by step. If you deem that you have followed instructions, end your response with: INSTRUCTIONS FOLLOWED. If you have not followed instructions, then update the repsonse to follow the instructions and restate {num_cards} flash cards in full and in the same format.\n",
    "\"\"\"\n",
    "\n",
    "again_template = \"\"\"\n",
    "Given the original task:\n",
    "\n",
    "{task}\n",
    "\n",
    "And your response:\n",
    "\n",
    "{response}\n",
    "\n",
    "Now provide {num_cards} more flash cards on the above information which are different from the original flash cards. Make sure these flash cards would impress {experts}.\n",
    "\"\"\"\n",
    "\n",
    "get_more = \"\"\"\n",
    "Given the following text:\n",
    "\n",
    "\"{sample_text}\"\n",
    "\n",
    "Now provide {num_cards} flash cards on the above information which better help the user understand the following flashcard:\n",
    "\n",
    "- Flash card 1:\n",
    "-- Question: {question}\n",
    "-- Answer: {answer}\n",
    "\n",
    "Make sure these flash cards would impress {experts}. And that they have the following format:\n",
    "\n",
    "{card_format}\n",
    "\"\"\"\n"
   ]
  },
  {
   "cell_type": "code",
   "execution_count": 22,
   "metadata": {},
   "outputs": [],
   "source": [
    "\n",
    "\n",
    "system_message = \"\"\"\n",
    "You are a helpful study assistant. I want you to create flash cards to be used for studying. The cards should obey these axioms:\n",
    "\n",
    "{card_axioms}\n",
    "\n",
    "and have this format:\n",
    "\n",
    "{card_format}\n",
    "\"\"\"\n",
    "\n",
    "UN_speech = \"\"\"\n",
    "\n",
    "\"\"\"\n",
    "\n",
    "supply_example_text = \"\"\"\n",
    "\n",
    "Here is an example text:\n",
    "\n",
    "\"{example_text}\"\n",
    "\n",
    "Make flash cards from this text.\n",
    "\"\"\"\n",
    "\n",
    "ask_for_flashcards = \"\"\"\n",
    "\n",
    "Here is the text I want you to create flash cards from:\n",
    "\n",
    "\"{sample_text}\"\n",
    "\n",
    "Now provide {num_cards} flash cards on the above information. \n",
    "\n",
    "\"\"\"\n",
    "\n"
   ]
  },
  {
   "cell_type": "code",
   "execution_count": 23,
   "metadata": {},
   "outputs": [
    {
     "ename": "ModuleNotFoundError",
     "evalue": "No module named 'tiktoken'",
     "output_type": "error",
     "traceback": [
      "\u001b[0;31m---------------------------------------------------------------------------\u001b[0m",
      "\u001b[0;31mModuleNotFoundError\u001b[0m                       Traceback (most recent call last)",
      "Cell \u001b[0;32mIn[23], line 2\u001b[0m\n\u001b[1;32m      1\u001b[0m \u001b[38;5;66;03m# Count tokens using tiktoken \u001b[39;00m\n\u001b[0;32m----> 2\u001b[0m \u001b[38;5;28;01mimport\u001b[39;00m \u001b[38;5;21;01mtiktoken\u001b[39;00m\n\u001b[1;32m      3\u001b[0m encoding \u001b[38;5;241m=\u001b[39m tiktoken\u001b[38;5;241m.\u001b[39mencoding_for_model(\u001b[38;5;124m\"\u001b[39m\u001b[38;5;124mgpt-4\u001b[39m\u001b[38;5;124m\"\u001b[39m)\n\u001b[1;32m      4\u001b[0m ee \u001b[38;5;241m=\u001b[39m encoding\u001b[38;5;241m.\u001b[39mencode(\u001b[38;5;124m\"\u001b[39m\u001b[38;5;124mHello world!\u001b[39m\u001b[38;5;124m\"\u001b[39m)\n",
      "\u001b[0;31mModuleNotFoundError\u001b[0m: No module named 'tiktoken'"
     ]
    }
   ],
   "source": [
    "# Count tokens using tiktoken \n",
    "import tiktoken\n",
    "encoding = tiktoken.encoding_for_model(\"gpt-4\")\n",
    "ee = encoding.encode(\"Hello world!\")\n"
   ]
  },
  {
   "cell_type": "code",
   "execution_count": 28,
   "metadata": {},
   "outputs": [
    {
     "name": "stdout",
     "output_type": "stream",
     "text": [
      "Defaulting to user installation because normal site-packages is not writeable\n",
      "Requirement already satisfied: openai in /home/ztkpat001/.local/lib/python3.10/site-packages (1.7.2)\n",
      "Requirement already satisfied: distro<2,>=1.7.0 in /usr/lib/python3/dist-packages (from openai) (1.7.0)\n",
      "Requirement already satisfied: anyio<5,>=3.5.0 in /home/ztkpat001/.local/lib/python3.10/site-packages (from openai) (4.2.0)\n",
      "Requirement already satisfied: tqdm>4 in /home/ztkpat001/.local/lib/python3.10/site-packages (from openai) (4.66.1)\n",
      "Requirement already satisfied: sniffio in /home/ztkpat001/.local/lib/python3.10/site-packages (from openai) (1.3.0)\n",
      "Requirement already satisfied: pydantic<3,>=1.9.0 in /home/ztkpat001/.local/lib/python3.10/site-packages (from openai) (2.5.3)\n",
      "Requirement already satisfied: httpx<1,>=0.23.0 in /home/ztkpat001/.local/lib/python3.10/site-packages (from openai) (0.26.0)\n",
      "Requirement already satisfied: typing-extensions<5,>=4.7 in /home/ztkpat001/.local/lib/python3.10/site-packages (from openai) (4.9.0)\n",
      "Requirement already satisfied: exceptiongroup>=1.0.2 in /home/ztkpat001/.local/lib/python3.10/site-packages (from anyio<5,>=3.5.0->openai) (1.2.0)\n",
      "Requirement already satisfied: idna>=2.8 in /usr/lib/python3/dist-packages (from anyio<5,>=3.5.0->openai) (3.3)\n",
      "Requirement already satisfied: certifi in /usr/lib/python3/dist-packages (from httpx<1,>=0.23.0->openai) (2020.6.20)\n",
      "Requirement already satisfied: httpcore==1.* in /home/ztkpat001/.local/lib/python3.10/site-packages (from httpx<1,>=0.23.0->openai) (1.0.2)\n",
      "Requirement already satisfied: h11<0.15,>=0.13 in /home/ztkpat001/.local/lib/python3.10/site-packages (from httpcore==1.*->httpx<1,>=0.23.0->openai) (0.14.0)\n",
      "Requirement already satisfied: pydantic-core==2.14.6 in /home/ztkpat001/.local/lib/python3.10/site-packages (from pydantic<3,>=1.9.0->openai) (2.14.6)\n",
      "Requirement already satisfied: annotated-types>=0.4.0 in /home/ztkpat001/.local/lib/python3.10/site-packages (from pydantic<3,>=1.9.0->openai) (0.6.0)\n",
      "Defaulting to user installation because normal site-packages is not writeable\n",
      "Collecting python-dotenv\n",
      "  Using cached python_dotenv-1.0.0-py3-none-any.whl (19 kB)\n",
      "Installing collected packages: python-dotenv\n",
      "Successfully installed python-dotenv-1.0.0\n"
     ]
    }
   ],
   "source": [
    "!pip install openai \n",
    "!pip install python-dotenv"
   ]
  },
  {
   "cell_type": "code",
   "execution_count": 30,
   "metadata": {},
   "outputs": [
    {
     "ename": "APIRemovedInV1",
     "evalue": "\n\nYou tried to access openai.ChatCompletion, but this is no longer supported in openai>=1.0.0 - see the README at https://github.com/openai/openai-python for the API.\n\nYou can run `openai migrate` to automatically upgrade your codebase to use the 1.0.0 interface. \n\nAlternatively, you can pin your installation to the old version, e.g. `pip install openai==0.28`\n\nA detailed migration guide is available here: https://github.com/openai/openai-python/discussions/742\n",
     "output_type": "error",
     "traceback": [
      "\u001b[0;31m---------------------------------------------------------------------------\u001b[0m",
      "\u001b[0;31mAPIRemovedInV1\u001b[0m                            Traceback (most recent call last)",
      "Cell \u001b[0;32mIn[30], line 20\u001b[0m\n\u001b[1;32m     12\u001b[0m msg_chn \u001b[38;5;241m=\u001b[39m [\n\u001b[1;32m     13\u001b[0m         {\u001b[38;5;124m\"\u001b[39m\u001b[38;5;124mrole\u001b[39m\u001b[38;5;124m\"\u001b[39m: \u001b[38;5;124m\"\u001b[39m\u001b[38;5;124msystem\u001b[39m\u001b[38;5;124m\"\u001b[39m, \u001b[38;5;124m\"\u001b[39m\u001b[38;5;124mcontent\u001b[39m\u001b[38;5;124m\"\u001b[39m: system_message\u001b[38;5;241m.\u001b[39mformat(card_axioms\u001b[38;5;241m=\u001b[39mcard_axioms, card_format\u001b[38;5;241m=\u001b[39mcard_format)},\n\u001b[1;32m     14\u001b[0m         {\u001b[38;5;124m\"\u001b[39m\u001b[38;5;124mrole\u001b[39m\u001b[38;5;124m\"\u001b[39m: \u001b[38;5;124m\"\u001b[39m\u001b[38;5;124muser\u001b[39m\u001b[38;5;124m\"\u001b[39m, \u001b[38;5;124m\"\u001b[39m\u001b[38;5;124mcontent\u001b[39m\u001b[38;5;124m\"\u001b[39m: supply_example_text\u001b[38;5;241m.\u001b[39mformat(example_text\u001b[38;5;241m=\u001b[39mexample_text)},\n\u001b[1;32m     15\u001b[0m         {\u001b[38;5;124m\"\u001b[39m\u001b[38;5;124mrole\u001b[39m\u001b[38;5;124m\"\u001b[39m: \u001b[38;5;124m\"\u001b[39m\u001b[38;5;124massistant\u001b[39m\u001b[38;5;124m\"\u001b[39m, \u001b[38;5;124m\"\u001b[39m\u001b[38;5;124mcontent\u001b[39m\u001b[38;5;124m\"\u001b[39m: example_flashcards},\n\u001b[1;32m     16\u001b[0m         {\u001b[38;5;124m\"\u001b[39m\u001b[38;5;124mrole\u001b[39m\u001b[38;5;124m\"\u001b[39m: \u001b[38;5;124m\"\u001b[39m\u001b[38;5;124muser\u001b[39m\u001b[38;5;124m\"\u001b[39m, \u001b[38;5;124m\"\u001b[39m\u001b[38;5;124mcontent\u001b[39m\u001b[38;5;124m\"\u001b[39m: ask_for_flashcards\u001b[38;5;241m.\u001b[39mformat(sample_text\u001b[38;5;241m=\u001b[39mindus_rev, num_cards\u001b[38;5;241m=\u001b[39mnum_cards)},\n\u001b[1;32m     17\u001b[0m     ]\n\u001b[1;32m     19\u001b[0m \u001b[38;5;66;03m# get gpt-4 to generate experts\u001b[39;00m\n\u001b[0;32m---> 20\u001b[0m response \u001b[38;5;241m=\u001b[39m \u001b[43mopenai\u001b[49m\u001b[38;5;241;43m.\u001b[39;49m\u001b[43mChatCompletion\u001b[49m\u001b[38;5;241;43m.\u001b[39;49m\u001b[43mcreate\u001b[49m\u001b[43m(\u001b[49m\n\u001b[1;32m     21\u001b[0m \u001b[43m    \u001b[49m\u001b[43mmodel\u001b[49m\u001b[38;5;241;43m=\u001b[39;49m\u001b[38;5;124;43m\"\u001b[39;49m\u001b[38;5;124;43mgpt-3.5-turbo\u001b[39;49m\u001b[38;5;124;43m\"\u001b[39;49m\u001b[43m,\u001b[49m\n\u001b[1;32m     22\u001b[0m \u001b[43m    \u001b[49m\u001b[43mmessages\u001b[49m\u001b[38;5;241;43m=\u001b[39;49m\u001b[43mmsg_chn\u001b[49m\n\u001b[1;32m     23\u001b[0m \u001b[43m)\u001b[49m\n",
      "File \u001b[0;32m~/.local/lib/python3.10/site-packages/openai/lib/_old_api.py:39\u001b[0m, in \u001b[0;36mAPIRemovedInV1Proxy.__call__\u001b[0;34m(self, *_args, **_kwargs)\u001b[0m\n\u001b[1;32m     38\u001b[0m \u001b[38;5;28;01mdef\u001b[39;00m \u001b[38;5;21m__call__\u001b[39m(\u001b[38;5;28mself\u001b[39m, \u001b[38;5;241m*\u001b[39m_args: Any, \u001b[38;5;241m*\u001b[39m\u001b[38;5;241m*\u001b[39m_kwargs: Any) \u001b[38;5;241m-\u001b[39m\u001b[38;5;241m>\u001b[39m Any:\n\u001b[0;32m---> 39\u001b[0m     \u001b[38;5;28;01mraise\u001b[39;00m APIRemovedInV1(symbol\u001b[38;5;241m=\u001b[39m\u001b[38;5;28mself\u001b[39m\u001b[38;5;241m.\u001b[39m_symbol)\n",
      "\u001b[0;31mAPIRemovedInV1\u001b[0m: \n\nYou tried to access openai.ChatCompletion, but this is no longer supported in openai>=1.0.0 - see the README at https://github.com/openai/openai-python for the API.\n\nYou can run `openai migrate` to automatically upgrade your codebase to use the 1.0.0 interface. \n\nAlternatively, you can pin your installation to the old version, e.g. `pip install openai==0.28`\n\nA detailed migration guide is available here: https://github.com/openai/openai-python/discussions/742\n"
     ]
    }
   ],
   "source": [
    "import openai\n",
    "from openai import OpenAI\n",
    "# load the API key from a .env file\n",
    "from dotenv import load_dotenv\n",
    "load_dotenv()\n",
    "import os\n",
    "#openai.api_key = os.getenv(\"OPENAI_API_KEY\")\n",
    "\n",
    "num_cards = 10\n",
    "\n",
    "experts = expert_extraction.format(topic=indus_rev)\n",
    "\n",
    "msg_chn = [\n",
    "        {\"role\": \"system\", \"content\": system_message.format(card_axioms=card_axioms, card_format=card_format)},\n",
    "        {\"role\": \"user\", \"content\": supply_example_text.format(example_text=example_text)},\n",
    "        {\"role\": \"assistant\", \"content\": example_flashcards},\n",
    "        {\"role\": \"user\", \"content\": ask_for_flashcards.format(sample_text=indus_rev, num_cards=num_cards)},\n",
    "    ]\n",
    "\n",
    "# get gpt-4 to generate experts\n",
    "client = OpenAI(\n",
    "    api_key=os.getenv(\"OPENAI_API_KEY\"),\n",
    ")\n",
    "response = client.chat.completions.create(\n",
    "    model=\"gpt-3.5-turbo\",\n",
    "    messages=msg_chn\n",
    ")\n"
   ]
  },
  {
   "cell_type": "code",
   "execution_count": 11,
   "metadata": {},
   "outputs": [
    {
     "name": "stdout",
     "output_type": "stream",
     "text": [
      "- Flash card 1:\n",
      "-- Question: What is the Industrial Revolution?\n",
      "-- Answer: The transition to new manufacturing processes in Great Britain, continental Europe, and the United States, from around 1760 to about 1820-1840.\n",
      "\n",
      "- Flash card 2:\n",
      "-- Question: What were some of the changes during the Industrial Revolution?\n",
      "-- Answer: Going from hand production methods to machines, new chemical manufacturing and iron production processes, increasing use of water power and steam power, development of machine tools, and the rise of mechanized factory system.\n",
      "\n",
      "- Flash card 3:\n",
      "-- Question: Which industry was the first to use modern production methods during the Industrial Revolution?\n",
      "-- Answer: The textile industry.\n",
      "\n",
      "- Flash card 4:\n",
      "-- Question: Where did the Industrial Revolution begin?\n",
      "-- Answer: Great Britain.\n",
      "\n",
      "- Flash card 5:\n",
      "-- Question: What were some of the major causes of the Industrial Revolution?\n",
      "-- Answer: The development of trade and the rise of business.\n",
      "\n",
      "- Flash card 6:\n",
      "-- Question: What was one of the most important effects of the Industrial Revolution?\n",
      "-- Answer: The standard of living for the general population in the Western world began to increase consistently for the first time in history.\n",
      "\n",
      "- Flash card 7:\n",
      "-- Question: When did the Industrial Revolution begin in Britain, according to Eric Hobsbawm?\n",
      "-- Answer: In the 1780s (fully felt in the 1830s or 1840s).\n",
      "\n",
      "- Flash card 8:\n",
      "-- Question: When did rapid industrialisation first begin in Britain?\n",
      "-- Answer: Mechanized textiles spinning in the 1780s, with high rates of growth in steam power and iron production after 1800.\n",
      "\n",
      "- Flash card 9:\n",
      "-- Question: When did the Industrial Revolution spread to continental Europe and the United States?\n",
      "-- Answer: Early 19th century.\n",
      "\n",
      "- Flash card 10:\n",
      "-- Question: What were some key innovations in the Second Industrial Revolution?\n",
      "-- Answer: New steel-making processes, mass production, assembly lines, electrical grid systems, large-scale manufacture of machine tools, and the use of advanced machinery in steam-powered factories.\n"
     ]
    }
   ],
   "source": [
    "print(response['choices'][0]['message']['content'])"
   ]
  },
  {
   "cell_type": "code",
   "execution_count": 12,
   "metadata": {},
   "outputs": [],
   "source": [
    "def parse_flashcards(text):\n",
    "    flashcards = {}\n",
    "    # Split text into lines\n",
    "    lines = text.split('\\n')\n",
    "    # Find the flash card lines\n",
    "    for i, line in enumerate(lines):\n",
    "        if line.startswith('- Flash card'):\n",
    "            card_number = int(line.split()[3].rstrip(':'))\n",
    "            question_line = lines[i+1].strip()\n",
    "            answer_line = lines[i+2].strip()\n",
    "\n",
    "            question_text = question_line.split(': ', 1)[1]\n",
    "            answer_text = answer_line.split(': ', 1)[1]\n",
    "\n",
    "            flashcards[card_number] = {\n",
    "                'Question': question_text, 'Answer': answer_text}\n",
    "\n",
    "    return flashcards"
   ]
  },
  {
   "cell_type": "code",
   "execution_count": 13,
   "metadata": {},
   "outputs": [
    {
     "data": {
      "text/plain": [
       "{1: {'Question': 'What is the Industrial Revolution?',\n",
       "  'Answer': 'The transition to new manufacturing processes in Great Britain, continental Europe, and the United States, from around 1760 to about 1820-1840.'},\n",
       " 2: {'Question': 'What were some of the changes during the Industrial Revolution?',\n",
       "  'Answer': 'Going from hand production methods to machines, new chemical manufacturing and iron production processes, increasing use of water power and steam power, development of machine tools, and the rise of mechanized factory system.'},\n",
       " 3: {'Question': 'Which industry was the first to use modern production methods during the Industrial Revolution?',\n",
       "  'Answer': 'The textile industry.'},\n",
       " 4: {'Question': 'Where did the Industrial Revolution begin?',\n",
       "  'Answer': 'Great Britain.'},\n",
       " 5: {'Question': 'What were some of the major causes of the Industrial Revolution?',\n",
       "  'Answer': 'The development of trade and the rise of business.'},\n",
       " 6: {'Question': 'What was one of the most important effects of the Industrial Revolution?',\n",
       "  'Answer': 'The standard of living for the general population in the Western world began to increase consistently for the first time in history.'},\n",
       " 7: {'Question': 'When did the Industrial Revolution begin in Britain, according to Eric Hobsbawm?',\n",
       "  'Answer': 'In the 1780s (fully felt in the 1830s or 1840s).'},\n",
       " 8: {'Question': 'When did rapid industrialisation first begin in Britain?',\n",
       "  'Answer': 'Mechanized textiles spinning in the 1780s, with high rates of growth in steam power and iron production after 1800.'},\n",
       " 9: {'Question': 'When did the Industrial Revolution spread to continental Europe and the United States?',\n",
       "  'Answer': 'Early 19th century.'},\n",
       " 10: {'Question': 'What were some key innovations in the Second Industrial Revolution?',\n",
       "  'Answer': 'New steel-making processes, mass production, assembly lines, electrical grid systems, large-scale manufacture of machine tools, and the use of advanced machinery in steam-powered factories.'}}"
      ]
     },
     "execution_count": 13,
     "metadata": {},
     "output_type": "execute_result"
    }
   ],
   "source": [
    "parse_flashcards(response['choices'][0]['message']['content'])"
   ]
  },
  {
   "cell_type": "code",
   "execution_count": 14,
   "metadata": {},
   "outputs": [],
   "source": [
    "# append the flashcards to the message chain\n",
    "msg_chn.append({\"role\": \"assistant\", \"content\": response['choices'][0]['message']['content']})\n",
    "# now append to ask for more flashcards\n",
    "msg_chn.append({\"role\": \"user\", \"content\": \"Now provide 10 more unique flash cards, continuing from the previous flash cards.\"})\n",
    "\n",
    "# get gpt-4 to generate experts\n",
    "response_more = openai.ChatCompletion.create(\n",
    "    model=\"gpt-3.5-turbo\",\n",
    "    messages=msg_chn\n",
    ")"
   ]
  },
  {
   "cell_type": "code",
   "execution_count": 15,
   "metadata": {},
   "outputs": [
    {
     "name": "stdout",
     "output_type": "stream",
     "text": [
      "- Flash card 11:\n",
      "-- Question: Which industry became dominant in terms of employment, value of output, and capital invested during the Industrial Revolution?\n",
      "-- Answer: The textile industry.\n",
      "\n",
      "- Flash card 12:\n",
      "-- Question: What were some of the key technological and architectural innovations during the Industrial Revolution?\n",
      "-- Answer: Machines, chemical manufacturing, iron production, water power, steam power, machine tools, mechanized factory system.\n",
      "\n",
      "- Flash card 13:\n",
      "-- Question: What was the role of Britain in the Industrial Revolution?\n",
      "-- Answer: By the mid-18th century, Britain was the world's leading commercial nation, controlling a global trading empire and having major military and political hegemony.\n",
      "\n",
      "- Flash card 14:\n",
      "-- Question: What other regions were influenced by the Industrial Revolution?\n",
      "-- Answer: Continental Europe and the United States.\n",
      "\n",
      "- Flash card 15:\n",
      "-- Question: What was the impact of the Industrial Revolution on average income and population?\n",
      "-- Answer: Average income and population began to exhibit unprecedented sustained growth.\n",
      "\n",
      "- Flash card 16:\n",
      "-- Question: When did per-capita economic growth in capitalist economies begin?\n",
      "-- Answer: With the onset of the Industrial Revolution and the emergence of the modern capitalist economy.\n",
      "\n",
      "- Flash card 17:\n",
      "-- Question: What is the significance of the Industrial Revolution in human history?\n",
      "-- Answer: It is considered the most important event since the domestication of animals and plants.\n",
      "\n",
      "- Flash card 18:\n",
      "-- Question: When did the Industrial Revolution occur according to T. S. Ashton?\n",
      "-- Answer: Roughly between 1760 and 1830.\n",
      "\n",
      "- Flash card 19:\n",
      "-- Question: What technological innovations developed late in the Industrial Revolution?\n",
      "-- Answer: Adoption of locomotives, steamboats, steamships, hot blast iron smelting.\n",
      "\n",
      "- Flash card 20:\n",
      "-- Question: When did rapid economic growth occur after the Industrial Revolution?\n",
      "-- Answer: After 1870, with the Second Industrial Revolution and new innovations in steel making processes, mass production, assembly lines, electrical grid systems, and advanced machinery.\n"
     ]
    }
   ],
   "source": [
    "print(response_more['choices'][0]['message']['content'])"
   ]
  },
  {
   "cell_type": "code",
   "execution_count": 16,
   "metadata": {},
   "outputs": [
    {
     "data": {
      "text/plain": [
       "{11: {'Question': 'Which industry became dominant in terms of employment, value of output, and capital invested during the Industrial Revolution?',\n",
       "  'Answer': 'The textile industry.'},\n",
       " 12: {'Question': 'What were some of the key technological and architectural innovations during the Industrial Revolution?',\n",
       "  'Answer': 'Machines, chemical manufacturing, iron production, water power, steam power, machine tools, mechanized factory system.'},\n",
       " 13: {'Question': 'What was the role of Britain in the Industrial Revolution?',\n",
       "  'Answer': \"By the mid-18th century, Britain was the world's leading commercial nation, controlling a global trading empire and having major military and political hegemony.\"},\n",
       " 14: {'Question': 'What other regions were influenced by the Industrial Revolution?',\n",
       "  'Answer': 'Continental Europe and the United States.'},\n",
       " 15: {'Question': 'What was the impact of the Industrial Revolution on average income and population?',\n",
       "  'Answer': 'Average income and population began to exhibit unprecedented sustained growth.'},\n",
       " 16: {'Question': 'When did per-capita economic growth in capitalist economies begin?',\n",
       "  'Answer': 'With the onset of the Industrial Revolution and the emergence of the modern capitalist economy.'},\n",
       " 17: {'Question': 'What is the significance of the Industrial Revolution in human history?',\n",
       "  'Answer': 'It is considered the most important event since the domestication of animals and plants.'},\n",
       " 18: {'Question': 'When did the Industrial Revolution occur according to T. S. Ashton?',\n",
       "  'Answer': 'Roughly between 1760 and 1830.'},\n",
       " 19: {'Question': 'What technological innovations developed late in the Industrial Revolution?',\n",
       "  'Answer': 'Adoption of locomotives, steamboats, steamships, hot blast iron smelting.'},\n",
       " 20: {'Question': 'When did rapid economic growth occur after the Industrial Revolution?',\n",
       "  'Answer': 'After 1870, with the Second Industrial Revolution and new innovations in steel making processes, mass production, assembly lines, electrical grid systems, and advanced machinery.'}}"
      ]
     },
     "execution_count": 16,
     "metadata": {},
     "output_type": "execute_result"
    }
   ],
   "source": [
    "parse_flashcards(response_more['choices'][0]['message']['content'])"
   ]
  },
  {
   "cell_type": "code",
   "execution_count": 17,
   "metadata": {},
   "outputs": [
    {
     "data": {
      "text/plain": [
       "{1: {'Question': 'What is the Industrial Revolution?',\n",
       "  'Answer': 'The transition to new manufacturing processes in Great Britain, continental Europe, and the United States, from around 1760 to about 1820-1840.'},\n",
       " 2: {'Question': 'What were some of the changes during the Industrial Revolution?',\n",
       "  'Answer': 'Going from hand production methods to machines, new chemical manufacturing and iron production processes, increasing use of water power and steam power, development of machine tools, and the rise of mechanized factory system.'},\n",
       " 3: {'Question': 'Which industry was the first to use modern production methods during the Industrial Revolution?',\n",
       "  'Answer': 'The textile industry.'},\n",
       " 4: {'Question': 'Where did the Industrial Revolution begin?',\n",
       "  'Answer': 'Great Britain.'},\n",
       " 5: {'Question': 'What were some of the major causes of the Industrial Revolution?',\n",
       "  'Answer': 'The development of trade and the rise of business.'},\n",
       " 6: {'Question': 'What was one of the most important effects of the Industrial Revolution?',\n",
       "  'Answer': 'The standard of living for the general population in the Western world began to increase consistently for the first time in history.'},\n",
       " 7: {'Question': 'When did the Industrial Revolution begin in Britain, according to Eric Hobsbawm?',\n",
       "  'Answer': 'In the 1780s (fully felt in the 1830s or 1840s).'},\n",
       " 8: {'Question': 'When did rapid industrialisation first begin in Britain?',\n",
       "  'Answer': 'Mechanized textiles spinning in the 1780s, with high rates of growth in steam power and iron production after 1800.'},\n",
       " 9: {'Question': 'When did the Industrial Revolution spread to continental Europe and the United States?',\n",
       "  'Answer': 'Early 19th century.'},\n",
       " 10: {'Question': 'What were some key innovations in the Second Industrial Revolution?',\n",
       "  'Answer': 'New steel-making processes, mass production, assembly lines, electrical grid systems, large-scale manufacture of machine tools, and the use of advanced machinery in steam-powered factories.'}}"
      ]
     },
     "execution_count": 17,
     "metadata": {},
     "output_type": "execute_result"
    }
   ],
   "source": [
    "parse_flashcards(response['choices'][0]['message']['content'])"
   ]
  },
  {
   "attachments": {},
   "cell_type": "markdown",
   "metadata": {},
   "source": [
    "#### Chat with topic / Oral exam"
   ]
  },
  {
   "cell_type": "code",
   "execution_count": 27,
   "metadata": {},
   "outputs": [
    {
     "data": {
      "text/plain": [
       "3"
      ]
     },
     "execution_count": 27,
     "metadata": {},
     "output_type": "execute_result"
    }
   ],
   "source": []
  },
  {
   "attachments": {},
   "cell_type": "markdown",
   "metadata": {},
   "source": [
    "#### Make tests"
   ]
  },
  {
   "cell_type": "code",
   "execution_count": null,
   "metadata": {},
   "outputs": [],
   "source": []
  },
  {
   "cell_type": "code",
   "execution_count": null,
   "metadata": {},
   "outputs": [],
   "source": []
  },
  {
   "cell_type": "code",
   "execution_count": null,
   "metadata": {},
   "outputs": [],
   "source": []
  }
 ],
 "metadata": {
  "kernelspec": {
   "display_name": "vv-virt",
   "language": "python",
   "name": "python3"
  },
  "language_info": {
   "codemirror_mode": {
    "name": "ipython",
    "version": 3
   },
   "file_extension": ".py",
   "mimetype": "text/x-python",
   "name": "python",
   "nbconvert_exporter": "python",
   "pygments_lexer": "ipython3",
   "version": "3.10.12"
  },
  "orig_nbformat": 4,
  "vscode": {
   "interpreter": {
    "hash": "467eade73608c69650b66dcc172ef406961d6123f39a76562e7e6fc93ed67f58"
   }
  }
 },
 "nbformat": 4,
 "nbformat_minor": 2
}
