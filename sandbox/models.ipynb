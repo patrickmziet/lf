{
 "cells": [
  {
   "cell_type": "markdown",
   "metadata": {},
   "source": [
    "## Install all dependencies"
   ]
  },
  {
   "cell_type": "code",
   "execution_count": 10,
   "metadata": {},
   "outputs": [
    {
     "name": "stdout",
     "output_type": "stream",
     "text": [
      "Defaulting to user installation because normal site-packages is not writeable\n",
      "Requirement already satisfied: PyPDF2 in /home/ztkpat001/.local/lib/python3.10/site-packages (3.0.1)\n",
      "Defaulting to user installation because normal site-packages is not writeable\n",
      "Requirement already satisfied: langchain in /home/ztkpat001/.local/lib/python3.10/site-packages (0.1.7)\n",
      "Requirement already satisfied: requests<3,>=2 in /home/ztkpat001/.local/lib/python3.10/site-packages (from langchain) (2.31.0)\n",
      "Requirement already satisfied: langchain-core<0.2,>=0.1.22 in /home/ztkpat001/.local/lib/python3.10/site-packages (from langchain) (0.1.23)\n",
      "Requirement already satisfied: langsmith<0.1,>=0.0.83 in /home/ztkpat001/.local/lib/python3.10/site-packages (from langchain) (0.0.87)\n",
      "Requirement already satisfied: jsonpatch<2.0,>=1.33 in /home/ztkpat001/.local/lib/python3.10/site-packages (from langchain) (1.33)\n",
      "Requirement already satisfied: pydantic<3,>=1 in /home/ztkpat001/.local/lib/python3.10/site-packages (from langchain) (2.5.3)\n",
      "Requirement already satisfied: langchain-community<0.1,>=0.0.20 in /home/ztkpat001/.local/lib/python3.10/site-packages (from langchain) (0.0.20)\n",
      "Requirement already satisfied: async-timeout<5.0.0,>=4.0.0 in /home/ztkpat001/.local/lib/python3.10/site-packages (from langchain) (4.0.3)\n",
      "Requirement already satisfied: dataclasses-json<0.7,>=0.5.7 in /home/ztkpat001/.local/lib/python3.10/site-packages (from langchain) (0.6.4)\n",
      "Requirement already satisfied: SQLAlchemy<3,>=1.4 in /home/ztkpat001/.local/lib/python3.10/site-packages (from langchain) (2.0.27)\n",
      "Requirement already satisfied: PyYAML>=5.3 in /usr/lib/python3/dist-packages (from langchain) (5.4.1)\n",
      "Requirement already satisfied: tenacity<9.0.0,>=8.1.0 in /home/ztkpat001/.local/lib/python3.10/site-packages (from langchain) (8.2.3)\n",
      "Requirement already satisfied: aiohttp<4.0.0,>=3.8.3 in /home/ztkpat001/.local/lib/python3.10/site-packages (from langchain) (3.9.3)\n",
      "Requirement already satisfied: numpy<2,>=1 in /home/ztkpat001/.local/lib/python3.10/site-packages (from langchain) (1.26.4)\n",
      "Requirement already satisfied: multidict<7.0,>=4.5 in /home/ztkpat001/.local/lib/python3.10/site-packages (from aiohttp<4.0.0,>=3.8.3->langchain) (6.0.5)\n",
      "Requirement already satisfied: yarl<2.0,>=1.0 in /home/ztkpat001/.local/lib/python3.10/site-packages (from aiohttp<4.0.0,>=3.8.3->langchain) (1.9.4)\n",
      "Requirement already satisfied: frozenlist>=1.1.1 in /home/ztkpat001/.local/lib/python3.10/site-packages (from aiohttp<4.0.0,>=3.8.3->langchain) (1.4.1)\n",
      "Requirement already satisfied: attrs>=17.3.0 in /home/ztkpat001/.local/lib/python3.10/site-packages (from aiohttp<4.0.0,>=3.8.3->langchain) (23.2.0)\n",
      "Requirement already satisfied: aiosignal>=1.1.2 in /home/ztkpat001/.local/lib/python3.10/site-packages (from aiohttp<4.0.0,>=3.8.3->langchain) (1.3.1)\n",
      "Requirement already satisfied: marshmallow<4.0.0,>=3.18.0 in /home/ztkpat001/.local/lib/python3.10/site-packages (from dataclasses-json<0.7,>=0.5.7->langchain) (3.20.2)\n",
      "Requirement already satisfied: typing-inspect<1,>=0.4.0 in /home/ztkpat001/.local/lib/python3.10/site-packages (from dataclasses-json<0.7,>=0.5.7->langchain) (0.9.0)\n",
      "Requirement already satisfied: jsonpointer>=1.9 in /home/ztkpat001/.local/lib/python3.10/site-packages (from jsonpatch<2.0,>=1.33->langchain) (2.4)\n",
      "Requirement already satisfied: anyio<5,>=3 in /home/ztkpat001/.local/lib/python3.10/site-packages (from langchain-core<0.2,>=0.1.22->langchain) (4.2.0)\n",
      "Requirement already satisfied: packaging<24.0,>=23.2 in /home/ztkpat001/.local/lib/python3.10/site-packages (from langchain-core<0.2,>=0.1.22->langchain) (23.2)\n",
      "Requirement already satisfied: annotated-types>=0.4.0 in /home/ztkpat001/.local/lib/python3.10/site-packages (from pydantic<3,>=1->langchain) (0.6.0)\n",
      "Requirement already satisfied: pydantic-core==2.14.6 in /home/ztkpat001/.local/lib/python3.10/site-packages (from pydantic<3,>=1->langchain) (2.14.6)\n",
      "Requirement already satisfied: typing-extensions>=4.6.1 in /home/ztkpat001/.local/lib/python3.10/site-packages (from pydantic<3,>=1->langchain) (4.9.0)\n",
      "Requirement already satisfied: certifi>=2017.4.17 in /usr/lib/python3/dist-packages (from requests<3,>=2->langchain) (2020.6.20)\n",
      "Requirement already satisfied: charset-normalizer<4,>=2 in /home/ztkpat001/.local/lib/python3.10/site-packages (from requests<3,>=2->langchain) (3.3.2)\n",
      "Requirement already satisfied: urllib3<3,>=1.21.1 in /usr/lib/python3/dist-packages (from requests<3,>=2->langchain) (1.26.5)\n",
      "Requirement already satisfied: idna<4,>=2.5 in /usr/lib/python3/dist-packages (from requests<3,>=2->langchain) (3.3)\n",
      "Requirement already satisfied: greenlet!=0.4.17 in /home/ztkpat001/.local/lib/python3.10/site-packages (from SQLAlchemy<3,>=1.4->langchain) (3.0.3)\n",
      "Requirement already satisfied: exceptiongroup>=1.0.2 in /home/ztkpat001/.local/lib/python3.10/site-packages (from anyio<5,>=3->langchain-core<0.2,>=0.1.22->langchain) (1.2.0)\n",
      "Requirement already satisfied: sniffio>=1.1 in /home/ztkpat001/.local/lib/python3.10/site-packages (from anyio<5,>=3->langchain-core<0.2,>=0.1.22->langchain) (1.3.0)\n",
      "Requirement already satisfied: mypy-extensions>=0.3.0 in /home/ztkpat001/.local/lib/python3.10/site-packages (from typing-inspect<1,>=0.4.0->dataclasses-json<0.7,>=0.5.7->langchain) (1.0.0)\n",
      "Defaulting to user installation because normal site-packages is not writeable\n",
      "Requirement already satisfied: pypdf in /home/ztkpat001/.local/lib/python3.10/site-packages (4.0.1)\n",
      "Defaulting to user installation because normal site-packages is not writeable\n",
      "Requirement already satisfied: ollama in /home/ztkpat001/.local/lib/python3.10/site-packages (0.1.6)\n",
      "Requirement already satisfied: httpx<0.26.0,>=0.25.2 in /home/ztkpat001/.local/lib/python3.10/site-packages (from ollama) (0.25.2)\n",
      "Requirement already satisfied: anyio in /home/ztkpat001/.local/lib/python3.10/site-packages (from httpx<0.26.0,>=0.25.2->ollama) (4.2.0)\n",
      "Requirement already satisfied: idna in /usr/lib/python3/dist-packages (from httpx<0.26.0,>=0.25.2->ollama) (3.3)\n",
      "Requirement already satisfied: httpcore==1.* in /home/ztkpat001/.local/lib/python3.10/site-packages (from httpx<0.26.0,>=0.25.2->ollama) (1.0.2)\n",
      "Requirement already satisfied: sniffio in /home/ztkpat001/.local/lib/python3.10/site-packages (from httpx<0.26.0,>=0.25.2->ollama) (1.3.0)\n",
      "Requirement already satisfied: certifi in /usr/lib/python3/dist-packages (from httpx<0.26.0,>=0.25.2->ollama) (2020.6.20)\n",
      "Requirement already satisfied: h11<0.15,>=0.13 in /home/ztkpat001/.local/lib/python3.10/site-packages (from httpcore==1.*->httpx<0.26.0,>=0.25.2->ollama) (0.14.0)\n",
      "Requirement already satisfied: typing-extensions>=4.1 in /home/ztkpat001/.local/lib/python3.10/site-packages (from anyio->httpx<0.26.0,>=0.25.2->ollama) (4.9.0)\n",
      "Requirement already satisfied: exceptiongroup>=1.0.2 in /home/ztkpat001/.local/lib/python3.10/site-packages (from anyio->httpx<0.26.0,>=0.25.2->ollama) (1.2.0)\n",
      "Defaulting to user installation because normal site-packages is not writeable\n",
      "Requirement already satisfied: pandas in /home/ztkpat001/.local/lib/python3.10/site-packages (2.2.0)\n",
      "Requirement already satisfied: python-dateutil>=2.8.2 in /home/ztkpat001/.local/lib/python3.10/site-packages (from pandas) (2.8.2)\n",
      "Requirement already satisfied: numpy<2,>=1.22.4 in /home/ztkpat001/.local/lib/python3.10/site-packages (from pandas) (1.26.4)\n",
      "Requirement already satisfied: tzdata>=2022.7 in /home/ztkpat001/.local/lib/python3.10/site-packages (from pandas) (2024.1)\n",
      "Requirement already satisfied: pytz>=2020.1 in /usr/lib/python3/dist-packages (from pandas) (2022.1)\n",
      "Requirement already satisfied: six>=1.5 in /usr/lib/python3/dist-packages (from python-dateutil>=2.8.2->pandas) (1.16.0)\n",
      "Defaulting to user installation because normal site-packages is not writeable\n",
      "Requirement already satisfied: openai in /home/ztkpat001/.local/lib/python3.10/site-packages (1.7.2)\n",
      "Requirement already satisfied: anyio<5,>=3.5.0 in /home/ztkpat001/.local/lib/python3.10/site-packages (from openai) (4.2.0)\n",
      "Requirement already satisfied: httpx<1,>=0.23.0 in /home/ztkpat001/.local/lib/python3.10/site-packages (from openai) (0.25.2)\n",
      "Requirement already satisfied: tqdm>4 in /home/ztkpat001/.local/lib/python3.10/site-packages (from openai) (4.66.1)\n",
      "Requirement already satisfied: distro<2,>=1.7.0 in /usr/lib/python3/dist-packages (from openai) (1.7.0)\n",
      "Requirement already satisfied: pydantic<3,>=1.9.0 in /home/ztkpat001/.local/lib/python3.10/site-packages (from openai) (2.5.3)\n",
      "Requirement already satisfied: sniffio in /home/ztkpat001/.local/lib/python3.10/site-packages (from openai) (1.3.0)\n",
      "Requirement already satisfied: typing-extensions<5,>=4.7 in /home/ztkpat001/.local/lib/python3.10/site-packages (from openai) (4.9.0)\n",
      "Requirement already satisfied: idna>=2.8 in /usr/lib/python3/dist-packages (from anyio<5,>=3.5.0->openai) (3.3)\n",
      "Requirement already satisfied: exceptiongroup>=1.0.2 in /home/ztkpat001/.local/lib/python3.10/site-packages (from anyio<5,>=3.5.0->openai) (1.2.0)\n",
      "Requirement already satisfied: certifi in /usr/lib/python3/dist-packages (from httpx<1,>=0.23.0->openai) (2020.6.20)\n",
      "Requirement already satisfied: httpcore==1.* in /home/ztkpat001/.local/lib/python3.10/site-packages (from httpx<1,>=0.23.0->openai) (1.0.2)\n",
      "Requirement already satisfied: h11<0.15,>=0.13 in /home/ztkpat001/.local/lib/python3.10/site-packages (from httpcore==1.*->httpx<1,>=0.23.0->openai) (0.14.0)\n",
      "Requirement already satisfied: annotated-types>=0.4.0 in /home/ztkpat001/.local/lib/python3.10/site-packages (from pydantic<3,>=1.9.0->openai) (0.6.0)\n",
      "Requirement already satisfied: pydantic-core==2.14.6 in /home/ztkpat001/.local/lib/python3.10/site-packages (from pydantic<3,>=1.9.0->openai) (2.14.6)\n",
      "Defaulting to user installation because normal site-packages is not writeable\n",
      "Requirement already satisfied: tiktoken in /home/ztkpat001/.local/lib/python3.10/site-packages (0.6.0)\n",
      "Requirement already satisfied: requests>=2.26.0 in /home/ztkpat001/.local/lib/python3.10/site-packages (from tiktoken) (2.31.0)\n",
      "Requirement already satisfied: regex>=2022.1.18 in /home/ztkpat001/.local/lib/python3.10/site-packages (from tiktoken) (2023.12.25)\n",
      "Requirement already satisfied: idna<4,>=2.5 in /usr/lib/python3/dist-packages (from requests>=2.26.0->tiktoken) (3.3)\n",
      "Requirement already satisfied: certifi>=2017.4.17 in /usr/lib/python3/dist-packages (from requests>=2.26.0->tiktoken) (2020.6.20)\n",
      "Requirement already satisfied: urllib3<3,>=1.21.1 in /usr/lib/python3/dist-packages (from requests>=2.26.0->tiktoken) (1.26.5)\n",
      "Requirement already satisfied: charset-normalizer<4,>=2 in /home/ztkpat001/.local/lib/python3.10/site-packages (from requests>=2.26.0->tiktoken) (3.3.2)\n",
      "Defaulting to user installation because normal site-packages is not writeable\n",
      "Requirement already satisfied: python-dotenv in /home/ztkpat001/.local/lib/python3.10/site-packages (1.0.0)\n"
     ]
    }
   ],
   "source": [
    "!pip install PyPDF2\n",
    "!pip install langchain\n",
    "!pip install pypdf \n",
    "!pip install ollama\n",
    "!pip install pandas\n",
    "!pip install openai\n",
    "!pip install tiktoken\n",
    "!pip install python-dotenv"
   ]
  },
  {
   "cell_type": "code",
   "execution_count": 2,
   "metadata": {},
   "outputs": [
    {
     "name": "stdout",
     "output_type": "stream",
     "text": [
      "Defaulting to user installation because normal site-packages is not writeable\n",
      "Processing /home/ztkpat001/repos/pana/dist/pana-1.0-py3-none-any.whl\n",
      "Installing collected packages: pana\n",
      "  Attempting uninstall: pana\n",
      "    Found existing installation: pana 1.0\n",
      "    Uninstalling pana-1.0:\n",
      "      Successfully uninstalled pana-1.0\n",
      "Successfully installed pana-1.0\n"
     ]
    }
   ],
   "source": [
    "!pip install --force-reinstall ~/repos/pana/dist/pana-1.0-py3-none-any.whl"
   ]
  },
  {
   "cell_type": "code",
   "execution_count": 12,
   "metadata": {},
   "outputs": [],
   "source": [
    "import os\n",
    "from dotenv import load_dotenv\n",
    "# import necessary libraries\n",
    "from pana import ModelFactory, PromptFlow\n",
    "from pana.texts import nato_text_short, json_nato_flashcards, json_system_message\n",
    "from langchain_community.document_loaders import PyPDFLoader\n"
   ]
  },
  {
   "cell_type": "markdown",
   "metadata": {},
   "source": [
    "### Models"
   ]
  },
  {
   "cell_type": "code",
   "execution_count": 4,
   "metadata": {},
   "outputs": [
    {
     "name": "stdout",
     "output_type": "stream",
     "text": [
      "Number of chunks: 16\n",
      "02/02/2024, 19:48 The New Invisible Competitors | Wilson Quarterly\n",
      "https://www.wilsonquarterly.com/quarterly/fall-2007-overdrive-competition-in-american-life/the-new-invisible-competitors 2/10Remember the Archie comics? Archie and his conceited rival Reggie battle for\n",
      "the affections of Betty and Veronica, and the two girls, though they are best\n",
      "friends, jockey for the attention of Archie, the affable  all- American boy. They\n",
      "have been at it for more than 60 years, and in the early days the basic situation\n",
      "wasn’t far removed from the experience of many Americans, especially in\n",
      "small towns. Indeed, cartoonist Bob Montana based the Archie characters on\n",
      "people he knew from his high school days during the 1930s in Haverhill,\n",
      "Massachusetts. Most romantic competition occurred within small groups of\n",
      "people who knew one another. The girl or guy would choose, perhaps the\n",
      "couple would marry and settle down, and often the loser ended up living down\n",
      "the street or across town. Romance was full of heartbreak and anxiety, but at\n",
      "least you knew who your rivals were and who was beating  you.\n",
      "Archie and his crowd continue their antics in the world of colored ink, but in\n",
      "the real world, romantic competition has radically changed. Millions of Women\n",
      "Are Waiting to Meet You is the apt title of Sean Thomas’s 2006 book about\n",
      "Internet dating, and there really are, just as millions of men are now potential\n",
      "matches for each woman. But the sad truth for members of both sexes is that\n",
      "millions of rivals are also waiting, waiting to undercut their chances and crush\n",
      "their hopes before they even get close to a first date. All they will “see” is that\n",
      "their charming e-mail to “prettyblonde47” or “bronc0451” was never answered.\n",
      "The competition now is invisible, the rivals  faceless.\n",
      "What’s true in the romantic sphere is also increasingly the case in the wider\n",
      "world. Most of the pressure on the wages and job security of American\n",
      "software programmers now comes from eager workers in India and\n"
     ]
    }
   ],
   "source": [
    "loader = PyPDFLoader(\"data/The_New_Invisible_Competitors.pdf\")\n",
    "pages = loader.load_and_split()\n",
    "pages[0]\n",
    "# Chunk the content into pieces \n",
    "from langchain.text_splitter import RecursiveCharacterTextSplitter\n",
    "text_splitter = RecursiveCharacterTextSplitter(\n",
    "    chunk_size=2000, chunk_overlap=100, add_start_index=True\n",
    ")\n",
    "all_splits = text_splitter.split_documents(pages)\n",
    "print(\"Number of chunks:\", len(all_splits))\n",
    "print(all_splits[1].page_content)"
   ]
  },
  {
   "cell_type": "code",
   "execution_count": 5,
   "metadata": {},
   "outputs": [
    {
     "name": "stdout",
     "output_type": "stream",
     "text": [
      "\n",
      "Madam Speaker, Madam Vice President, our First Lady and Second Gentleman. Members of Congress and the Cabinet. Justices of the Supreme Court. My fellow Americans.  \n",
      "\n",
      "Last year COVID-19 kept us apart. This year we are finally together again. \n",
      "\n",
      "Tonight, we meet as Democrats Republicans and Independents. But most importantly as Americans. \n",
      "\n",
      "With a duty to one another to the American people to the Constitution. \n",
      "\n",
      "And with an unwavering resolve that freedom will always triumph over tyranny. \n",
      "\n",
      "Six days ago, Russia’s Vladimir Putin sought to shake the foundations of the free world thinking he could make it bend to his menacing ways. But he badly miscalculated. \n",
      "\n",
      "He thought he could roll into Ukraine and the world would roll over. Instead he met a wall of strength he never imagined.  \n",
      "\n",
      "\n",
      "{\"1\":{\"Question\":\"How many members are in the NATO Alliance?\", \"Answer\":\"30\"}, \"2\":{\"Question\":\"What is the name of the Ukrainian President?\", \"Answer\":\"Volodymyr Zelensky\"}, \"3\":{\"Question\":\"Who did the speaker of this speech greet first?\", \"Answer\":\"Madam Speaker\"}, \"4\":{\"Question\":\"Why was, according to the speaker, was NATO created?\", \"Answer\":\"To secure peace in Europe after WW2.\"}, \"5\":{\"Question\":\"Who from Russia is repsonsible for the invasion?\", \"Answer\":\"Vladimir Putin\"}} \n",
      "\n",
      "\n",
      "You are a helpful study assistant. I want you to create flash cards to be used for studying. The cards should obey these axioms:\n",
      "\n",
      "        - Most flash cards should be atomic, i.e. they focus on a single piece of information.\n",
      "        - Make sure that that some of the flash cards are trivial so that users are able to build up key context on the topic.\n",
      "        - Avoid isolated flash cards which are not connected to other flash cards, that is ensure that the flash cards are connected to each other in such a way that when taken together they build up understanding.\n",
      "        - Do not, under any circumstances, make flash cards containing information which is not found in the provived text.\n",
      "        - The flash cards should be less than 8 words long.\n",
      "        \n",
      "        and have this JSON format:\n",
      "\n",
      "        \"{ \"X\":{\"Question\":Y, \"Answer\":Z}, ...}\"\n",
      "\n",
      "        Where X is the number of the flash card, Y is the question and Z is the answer.\n",
      "\n"
     ]
    }
   ],
   "source": [
    "print(nato_text_short)\n",
    "print(json_nato_flashcards)\n",
    "print(json_system_message)"
   ]
  },
  {
   "cell_type": "code",
   "execution_count": 6,
   "metadata": {},
   "outputs": [
    {
     "name": "stdout",
     "output_type": "stream",
     "text": [
      "[\n",
      "    {\n",
      "        \"role\": \"system\",\n",
      "        \"content\": \"\\nYou are a helpful study assistant. I want you to create flash cards to be used for studying. The cards should obey these axioms:\\n\\n        - Most flash cards should be atomic, i.e. they focus on a single piece of information.\\n        - Make sure that that some of the flash cards are trivial so that users are able to build up key context on the topic.\\n        - Avoid isolated flash cards which are not connected to other flash cards, that is ensure that the flash cards are connected to each other in such a way that when taken together they build up understanding.\\n        - Do not, under any circumstances, make flash cards containing information which is not found in the provived text.\\n        - The flash cards should be less than 8 words long.\\n        \\n        and have this JSON format:\\n\\n        \\\"{ \\\"X\\\":{\\\"Question\\\":Y, \\\"Answer\\\":Z}, ...}\\\"\\n\\n        Where X is the number of the flash card, Y is the question and Z is the answer.\\n\"\n",
      "    }\n",
      "]\n",
      "[\n",
      "    {\n",
      "        \"role\": \"system\",\n",
      "        \"content\": \"\\nYou are a helpful study assistant. I want you to create flash cards to be used for studying. The cards should obey these axioms:\\n\\n        - Most flash cards should be atomic, i.e. they focus on a single piece of information.\\n        - Make sure that that some of the flash cards are trivial so that users are able to build up key context on the topic.\\n        - Avoid isolated flash cards which are not connected to other flash cards, that is ensure that the flash cards are connected to each other in such a way that when taken together they build up understanding.\\n        - Do not, under any circumstances, make flash cards containing information which is not found in the provived text.\\n        - The flash cards should be less than 8 words long.\\n        \\n        and have this JSON format:\\n\\n        \\\"{ \\\"X\\\":{\\\"Question\\\":Y, \\\"Answer\\\":Z}, ...}\\\"\\n\\n        Where X is the number of the flash card, Y is the question and Z is the answer.\\n\"\n",
      "    },\n",
      "    {\n",
      "        \"role\": \"user\",\n",
      "        \"content\": \"\\n                          \\nMadam Speaker, Madam Vice President, our First Lady and Second Gentleman. Members of Congress and the Cabinet. Justices of the Supreme Court. My fellow Americans.  \\n\\nLast year COVID-19 kept us apart. This year we are finally together again. \\n\\nTonight, we meet as Democrats Republicans and Independents. But most importantly as Americans. \\n\\nWith a duty to one another to the American people to the Constitution. \\n\\nAnd with an unwavering resolve that freedom will always triumph over tyranny. \\n\\nSix days ago, Russia\\u2019s Vladimir Putin sought to shake the foundations of the free world thinking he could make it bend to his menacing ways. But he badly miscalculated. \\n\\nHe thought he could roll into Ukraine and the world would roll over. Instead he met a wall of strength he never imagined.  \\n\\n                          \\n                          Make 5 flashcards from the text above.\\n                          \"\n",
      "    },\n",
      "    {\n",
      "        \"role\": \"assistant\",\n",
      "        \"content\": \"\\n{\\\"1\\\":{\\\"Question\\\":\\\"How many members are in the NATO Alliance?\\\", \\\"Answer\\\":\\\"30\\\"}, \\\"2\\\":{\\\"Question\\\":\\\"What is the name of the Ukrainian President?\\\", \\\"Answer\\\":\\\"Volodymyr Zelensky\\\"}, \\\"3\\\":{\\\"Question\\\":\\\"Who did the speaker of this speech greet first?\\\", \\\"Answer\\\":\\\"Madam Speaker\\\"}, \\\"4\\\":{\\\"Question\\\":\\\"Why was, according to the speaker, was NATO created?\\\", \\\"Answer\\\":\\\"To secure peace in Europe after WW2.\\\"}, \\\"5\\\":{\\\"Question\\\":\\\"Who from Russia is repsonsible for the invasion?\\\", \\\"Answer\\\":\\\"Vladimir Putin\\\"}} \\n\"\n",
      "    }\n",
      "]\n"
     ]
    }
   ],
   "source": [
    "json_flow = PromptFlow(\"json_flow\", \"Original flow with JSON output now\")\n",
    "json_flow.add_system_message(json_system_message)\n",
    "print(json_flow)\n",
    "json_flow.add_interaction(\"user\",\n",
    "                          f\"\"\"\n",
    "                          {nato_text_short}\n",
    "                          \n",
    "                          Make 5 flashcards from the text above.\n",
    "                          \"\"\"\n",
    "                          )\n",
    "json_flow.add_interaction(\"assistant\", json_nato_flashcards)\n",
    "print(json_flow)\n",
    "json_flow.save_to_file()"
   ]
  },
  {
   "cell_type": "code",
   "execution_count": 7,
   "metadata": {},
   "outputs": [
    {
     "name": "stdout",
     "output_type": "stream",
     "text": [
      "[\n",
      "    {\n",
      "        \"role\": \"system\",\n",
      "        \"content\": \"\\nYou are a helpful study assistant. I want you to create flash cards to be used for studying. The cards should obey these axioms:\\n\\n        - Most flash cards should be atomic, i.e. they focus on a single piece of information.\\n        - Make sure that that some of the flash cards are trivial so that users are able to build up key context on the topic.\\n        - Avoid isolated flash cards which are not connected to other flash cards, that is ensure that the flash cards are connected to each other in such a way that when taken together they build up understanding.\\n        - Do not, under any circumstances, make flash cards containing information which is not found in the provived text.\\n        - The flash cards should be less than 8 words long.\\n        \\n        and have this JSON format:\\n\\n        \\\"{ \\\"X\\\":{\\\"Question\\\":Y, \\\"Answer\\\":Z}, ...}\\\"\\n\\n        Where X is the number of the flash card, Y is the question and Z is the answer.\\n\"\n",
      "    },\n",
      "    {\n",
      "        \"role\": \"user\",\n",
      "        \"content\": \"\\n                          \\nMadam Speaker, Madam Vice President, our First Lady and Second Gentleman. Members of Congress and the Cabinet. Justices of the Supreme Court. My fellow Americans.  \\n\\nLast year COVID-19 kept us apart. This year we are finally together again. \\n\\nTonight, we meet as Democrats Republicans and Independents. But most importantly as Americans. \\n\\nWith a duty to one another to the American people to the Constitution. \\n\\nAnd with an unwavering resolve that freedom will always triumph over tyranny. \\n\\nSix days ago, Russia\\u2019s Vladimir Putin sought to shake the foundations of the free world thinking he could make it bend to his menacing ways. But he badly miscalculated. \\n\\nHe thought he could roll into Ukraine and the world would roll over. Instead he met a wall of strength he never imagined.  \\n\\n                          \\n                          Make 5 flashcards from the text above.\\n                          \"\n",
      "    },\n",
      "    {\n",
      "        \"role\": \"assistant\",\n",
      "        \"content\": \"\\n{\\\"1\\\":{\\\"Question\\\":\\\"How many members are in the NATO Alliance?\\\", \\\"Answer\\\":\\\"30\\\"}, \\\"2\\\":{\\\"Question\\\":\\\"What is the name of the Ukrainian President?\\\", \\\"Answer\\\":\\\"Volodymyr Zelensky\\\"}, \\\"3\\\":{\\\"Question\\\":\\\"Who did the speaker of this speech greet first?\\\", \\\"Answer\\\":\\\"Madam Speaker\\\"}, \\\"4\\\":{\\\"Question\\\":\\\"Why was, according to the speaker, was NATO created?\\\", \\\"Answer\\\":\\\"To secure peace in Europe after WW2.\\\"}, \\\"5\\\":{\\\"Question\\\":\\\"Who from Russia is repsonsible for the invasion?\\\", \\\"Answer\\\":\\\"Vladimir Putin\\\"}} \\n\"\n",
      "    },\n",
      "    {\n",
      "        \"role\": \"user\",\n",
      "        \"content\": \"\\n    Based on the following text:\\n\\n    software programmers now comes from eager workers in India and\\nBangladesh. Hardly anyone saw this challenge coming. When those\\nBangladeshis were learning programming skills and clever ways to sell their\\nservices over the Internet, they never issued a challenge or threw down a\\ngauntlet. And it is not just programmers, factory workers, and call center\\nemployees who face new challengers. Invisible competition now touches even\\nthose who make their living with paintbrushes and shovels. At Guru.com and\\nother websites, it\\u2019s easy for anybody anywhere in the world to hire specialists\\noverseas for a wide variety of services, from designing integrated circuits to\\ncomposing advertising jingles. You can hire somebody to paint your portrait or\\nto draw up a landscape design for your house. The upshot is this: Competition\\n\\n    Make 2 flash cards.\\n\"\n",
      "    }\n",
      "]\n"
     ]
    }
   ],
   "source": [
    "i = 2\n",
    "json_flow_temp = json_flow\n",
    "json_flow_temp.add_interaction(\"user\", \n",
    "f\"\"\"\n",
    "    Based on the following text:\n",
    "\n",
    "    {all_splits[i].page_content}\n",
    "\n",
    "    Make 2 flash cards.\n",
    "\"\"\"\n",
    ")\n",
    "print(json_flow_temp)"
   ]
  },
  {
   "cell_type": "code",
   "execution_count": 14,
   "metadata": {},
   "outputs": [],
   "source": [
    "load_dotenv()\n",
    "OPENAI_API_KEY = os.environ.get(\"OPENAI_API_KEY\")\n",
    "model = ModelFactory.get_model(\"gpt-3.5-turbo-0125\", api_key=OPENAI_API_KEY)"
   ]
  },
  {
   "cell_type": "code",
   "execution_count": 15,
   "metadata": {},
   "outputs": [
    {
     "name": "stdout",
     "output_type": "stream",
     "text": [
      "Established connection with gpt-3.5-turbo-0125\n",
      "Calling gpt-3.5-turbo-0125 with prompt: [{'role': 'system', 'content': '\\nYou are a helpful study assistant. I want you to create flash cards to be used for studying. The cards should obey these axioms:\\n\\n        - Most flash cards should be atomic, i.e. they focus on a single piece of information.\\n        - Make sure that that some of the flash cards are trivial so that users are able to build up key context on the topic.\\n        - Avoid isolated flash cards which are not connected to other flash cards, that is ensure that the flash cards are connected to each other in such a way that when taken together they build up understanding.\\n        - Do not, under any circumstances, make flash cards containing information which is not found in the provived text.\\n        - The flash cards should be less than 8 words long.\\n        \\n        and have this JSON format:\\n\\n        \"{ \"X\":{\"Question\":Y, \"Answer\":Z}, ...}\"\\n\\n        Where X is the number of the flash card, Y is the question and Z is the answer.\\n'}, {'role': 'user', 'content': '\\n                          \\nMadam Speaker, Madam Vice President, our First Lady and Second Gentleman. Members of Congress and the Cabinet. Justices of the Supreme Court. My fellow Americans.  \\n\\nLast year COVID-19 kept us apart. This year we are finally together again. \\n\\nTonight, we meet as Democrats Republicans and Independents. But most importantly as Americans. \\n\\nWith a duty to one another to the American people to the Constitution. \\n\\nAnd with an unwavering resolve that freedom will always triumph over tyranny. \\n\\nSix days ago, Russia’s Vladimir Putin sought to shake the foundations of the free world thinking he could make it bend to his menacing ways. But he badly miscalculated. \\n\\nHe thought he could roll into Ukraine and the world would roll over. Instead he met a wall of strength he never imagined.  \\n\\n                          \\n                          Make 5 flashcards from the text above.\\n                          '}, {'role': 'assistant', 'content': '\\n{\"1\":{\"Question\":\"How many members are in the NATO Alliance?\", \"Answer\":\"30\"}, \"2\":{\"Question\":\"What is the name of the Ukrainian President?\", \"Answer\":\"Volodymyr Zelensky\"}, \"3\":{\"Question\":\"Who did the speaker of this speech greet first?\", \"Answer\":\"Madam Speaker\"}, \"4\":{\"Question\":\"Why was, according to the speaker, was NATO created?\", \"Answer\":\"To secure peace in Europe after WW2.\"}, \"5\":{\"Question\":\"Who from Russia is repsonsible for the invasion?\", \"Answer\":\"Vladimir Putin\"}} \\n'}, {'role': 'user', 'content': '\\n    Based on the following text:\\n\\n    software programmers now comes from eager workers in India and\\nBangladesh. Hardly anyone saw this challenge coming. When those\\nBangladeshis were learning programming skills and clever ways to sell their\\nservices over the Internet, they never issued a challenge or threw down a\\ngauntlet. And it is not just programmers, factory workers, and call center\\nemployees who face new challengers. Invisible competition now touches even\\nthose who make their living with paintbrushes and shovels. At Guru.com and\\nother websites, it’s easy for anybody anywhere in the world to hire specialists\\noverseas for a wide variety of services, from designing integrated circuits to\\ncomposing advertising jingles. You can hire somebody to paint your portrait or\\nto draw up a landscape design for your house. The upshot is this: Competition\\n\\n    Make 2 flash cards.\\n'}]\n"
     ]
    }
   ],
   "source": [
    "response = model.make_call(json_flow_temp.flow)"
   ]
  },
  {
   "cell_type": "code",
   "execution_count": 16,
   "metadata": {},
   "outputs": [
    {
     "name": "stdout",
     "output_type": "stream",
     "text": [
      "ChatCompletion(id='chatcmpl-8scEAQ1zJg5K60XL7g0coPs8yte8J', choices=[Choice(finish_reason='stop', index=0, logprobs=None, message=ChatCompletionMessage(content='{\"1\":{\"Question\":\"From which countries are eager software programmers now coming?\", \"Answer\":\"India and Bangladesh\"}, \"2\":{\"Question\":\"What website allows easy hiring of specialists overseas?\", \"Answer\":\"Guru.com\"}}', role='assistant', function_call=None, tool_calls=None))], created=1708027350, model='gpt-3.5-turbo-0125', object='chat.completion', system_fingerprint='fp_69829325d0', usage=CompletionUsage(completion_tokens=43, prompt_tokens=707, total_tokens=750))\n"
     ]
    }
   ],
   "source": [
    "print(response)"
   ]
  },
  {
   "cell_type": "code",
   "execution_count": null,
   "metadata": {},
   "outputs": [],
   "source": [
    "### NOW CONVERT INTO JSON"
   ]
  }
 ],
 "metadata": {
  "kernelspec": {
   "display_name": "Python 3",
   "language": "python",
   "name": "python3"
  },
  "language_info": {
   "codemirror_mode": {
    "name": "ipython",
    "version": 3
   },
   "file_extension": ".py",
   "mimetype": "text/x-python",
   "name": "python",
   "nbconvert_exporter": "python",
   "pygments_lexer": "ipython3",
   "version": "3.10.12"
  }
 },
 "nbformat": 4,
 "nbformat_minor": 2
}
