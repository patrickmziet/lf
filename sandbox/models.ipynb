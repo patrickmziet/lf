{
 "cells": [
  {
   "cell_type": "markdown",
   "metadata": {},
   "source": [
    "## Install all dependencies"
   ]
  },
  {
   "cell_type": "code",
   "execution_count": 1,
   "metadata": {},
   "outputs": [
    {
     "name": "stdout",
     "output_type": "stream",
     "text": [
      "Defaulting to user installation because normal site-packages is not writeable\n",
      "Requirement already satisfied: PyPDF2 in /home/ztkpat001/.local/lib/python3.10/site-packages (3.0.1)\n",
      "Defaulting to user installation because normal site-packages is not writeable\n",
      "Requirement already satisfied: langchain in /home/ztkpat001/.local/lib/python3.10/site-packages (0.1.7)\n",
      "Requirement already satisfied: async-timeout<5.0.0,>=4.0.0 in /home/ztkpat001/.local/lib/python3.10/site-packages (from langchain) (4.0.3)\n",
      "Requirement already satisfied: langchain-community<0.1,>=0.0.20 in /home/ztkpat001/.local/lib/python3.10/site-packages (from langchain) (0.0.20)\n",
      "Requirement already satisfied: numpy<2,>=1 in /home/ztkpat001/.local/lib/python3.10/site-packages (from langchain) (1.26.4)\n",
      "Requirement already satisfied: pydantic<3,>=1 in /home/ztkpat001/.local/lib/python3.10/site-packages (from langchain) (2.5.3)\n",
      "Requirement already satisfied: tenacity<9.0.0,>=8.1.0 in /home/ztkpat001/.local/lib/python3.10/site-packages (from langchain) (8.2.3)\n",
      "Requirement already satisfied: jsonpatch<2.0,>=1.33 in /home/ztkpat001/.local/lib/python3.10/site-packages (from langchain) (1.33)\n",
      "Requirement already satisfied: PyYAML>=5.3 in /usr/lib/python3/dist-packages (from langchain) (5.4.1)\n",
      "Requirement already satisfied: dataclasses-json<0.7,>=0.5.7 in /home/ztkpat001/.local/lib/python3.10/site-packages (from langchain) (0.6.4)\n",
      "Requirement already satisfied: langsmith<0.1,>=0.0.83 in /home/ztkpat001/.local/lib/python3.10/site-packages (from langchain) (0.0.87)\n",
      "Requirement already satisfied: aiohttp<4.0.0,>=3.8.3 in /home/ztkpat001/.local/lib/python3.10/site-packages (from langchain) (3.9.3)\n",
      "Requirement already satisfied: langchain-core<0.2,>=0.1.22 in /home/ztkpat001/.local/lib/python3.10/site-packages (from langchain) (0.1.23)\n",
      "Requirement already satisfied: requests<3,>=2 in /home/ztkpat001/.local/lib/python3.10/site-packages (from langchain) (2.31.0)\n",
      "Requirement already satisfied: SQLAlchemy<3,>=1.4 in /home/ztkpat001/.local/lib/python3.10/site-packages (from langchain) (2.0.27)\n",
      "Requirement already satisfied: yarl<2.0,>=1.0 in /home/ztkpat001/.local/lib/python3.10/site-packages (from aiohttp<4.0.0,>=3.8.3->langchain) (1.9.4)\n",
      "Requirement already satisfied: multidict<7.0,>=4.5 in /home/ztkpat001/.local/lib/python3.10/site-packages (from aiohttp<4.0.0,>=3.8.3->langchain) (6.0.5)\n",
      "Requirement already satisfied: frozenlist>=1.1.1 in /home/ztkpat001/.local/lib/python3.10/site-packages (from aiohttp<4.0.0,>=3.8.3->langchain) (1.4.1)\n",
      "Requirement already satisfied: aiosignal>=1.1.2 in /home/ztkpat001/.local/lib/python3.10/site-packages (from aiohttp<4.0.0,>=3.8.3->langchain) (1.3.1)\n",
      "Requirement already satisfied: attrs>=17.3.0 in /home/ztkpat001/.local/lib/python3.10/site-packages (from aiohttp<4.0.0,>=3.8.3->langchain) (23.2.0)\n",
      "Requirement already satisfied: typing-inspect<1,>=0.4.0 in /home/ztkpat001/.local/lib/python3.10/site-packages (from dataclasses-json<0.7,>=0.5.7->langchain) (0.9.0)\n",
      "Requirement already satisfied: marshmallow<4.0.0,>=3.18.0 in /home/ztkpat001/.local/lib/python3.10/site-packages (from dataclasses-json<0.7,>=0.5.7->langchain) (3.20.2)\n",
      "Requirement already satisfied: jsonpointer>=1.9 in /home/ztkpat001/.local/lib/python3.10/site-packages (from jsonpatch<2.0,>=1.33->langchain) (2.4)\n",
      "Requirement already satisfied: packaging<24.0,>=23.2 in /home/ztkpat001/.local/lib/python3.10/site-packages (from langchain-core<0.2,>=0.1.22->langchain) (23.2)\n",
      "Requirement already satisfied: anyio<5,>=3 in /home/ztkpat001/.local/lib/python3.10/site-packages (from langchain-core<0.2,>=0.1.22->langchain) (4.2.0)\n",
      "Requirement already satisfied: typing-extensions>=4.6.1 in /home/ztkpat001/.local/lib/python3.10/site-packages (from pydantic<3,>=1->langchain) (4.9.0)\n",
      "Requirement already satisfied: pydantic-core==2.14.6 in /home/ztkpat001/.local/lib/python3.10/site-packages (from pydantic<3,>=1->langchain) (2.14.6)\n",
      "Requirement already satisfied: annotated-types>=0.4.0 in /home/ztkpat001/.local/lib/python3.10/site-packages (from pydantic<3,>=1->langchain) (0.6.0)\n",
      "Requirement already satisfied: idna<4,>=2.5 in /usr/lib/python3/dist-packages (from requests<3,>=2->langchain) (3.3)\n",
      "Requirement already satisfied: urllib3<3,>=1.21.1 in /usr/lib/python3/dist-packages (from requests<3,>=2->langchain) (1.26.5)\n",
      "Requirement already satisfied: certifi>=2017.4.17 in /usr/lib/python3/dist-packages (from requests<3,>=2->langchain) (2020.6.20)\n",
      "Requirement already satisfied: charset-normalizer<4,>=2 in /home/ztkpat001/.local/lib/python3.10/site-packages (from requests<3,>=2->langchain) (3.3.2)\n",
      "Requirement already satisfied: greenlet!=0.4.17 in /home/ztkpat001/.local/lib/python3.10/site-packages (from SQLAlchemy<3,>=1.4->langchain) (3.0.3)\n",
      "Requirement already satisfied: sniffio>=1.1 in /home/ztkpat001/.local/lib/python3.10/site-packages (from anyio<5,>=3->langchain-core<0.2,>=0.1.22->langchain) (1.3.0)\n",
      "Requirement already satisfied: exceptiongroup>=1.0.2 in /home/ztkpat001/.local/lib/python3.10/site-packages (from anyio<5,>=3->langchain-core<0.2,>=0.1.22->langchain) (1.2.0)\n",
      "Requirement already satisfied: mypy-extensions>=0.3.0 in /home/ztkpat001/.local/lib/python3.10/site-packages (from typing-inspect<1,>=0.4.0->dataclasses-json<0.7,>=0.5.7->langchain) (1.0.0)\n",
      "Defaulting to user installation because normal site-packages is not writeable\n",
      "Requirement already satisfied: pypdf in /home/ztkpat001/.local/lib/python3.10/site-packages (4.0.1)\n",
      "Defaulting to user installation because normal site-packages is not writeable\n",
      "Requirement already satisfied: ollama in /home/ztkpat001/.local/lib/python3.10/site-packages (0.1.6)\n",
      "Requirement already satisfied: httpx<0.26.0,>=0.25.2 in /home/ztkpat001/.local/lib/python3.10/site-packages (from ollama) (0.25.2)\n",
      "Requirement already satisfied: certifi in /usr/lib/python3/dist-packages (from httpx<0.26.0,>=0.25.2->ollama) (2020.6.20)\n",
      "Requirement already satisfied: httpcore==1.* in /home/ztkpat001/.local/lib/python3.10/site-packages (from httpx<0.26.0,>=0.25.2->ollama) (1.0.2)\n",
      "Requirement already satisfied: idna in /usr/lib/python3/dist-packages (from httpx<0.26.0,>=0.25.2->ollama) (3.3)\n",
      "Requirement already satisfied: sniffio in /home/ztkpat001/.local/lib/python3.10/site-packages (from httpx<0.26.0,>=0.25.2->ollama) (1.3.0)\n",
      "Requirement already satisfied: anyio in /home/ztkpat001/.local/lib/python3.10/site-packages (from httpx<0.26.0,>=0.25.2->ollama) (4.2.0)\n",
      "Requirement already satisfied: h11<0.15,>=0.13 in /home/ztkpat001/.local/lib/python3.10/site-packages (from httpcore==1.*->httpx<0.26.0,>=0.25.2->ollama) (0.14.0)\n",
      "Requirement already satisfied: exceptiongroup>=1.0.2 in /home/ztkpat001/.local/lib/python3.10/site-packages (from anyio->httpx<0.26.0,>=0.25.2->ollama) (1.2.0)\n",
      "Requirement already satisfied: typing-extensions>=4.1 in /home/ztkpat001/.local/lib/python3.10/site-packages (from anyio->httpx<0.26.0,>=0.25.2->ollama) (4.9.0)\n",
      "Defaulting to user installation because normal site-packages is not writeable\n",
      "Requirement already satisfied: pandas in /home/ztkpat001/.local/lib/python3.10/site-packages (2.2.0)\n",
      "Requirement already satisfied: tzdata>=2022.7 in /home/ztkpat001/.local/lib/python3.10/site-packages (from pandas) (2024.1)\n",
      "Requirement already satisfied: numpy<2,>=1.22.4 in /home/ztkpat001/.local/lib/python3.10/site-packages (from pandas) (1.26.4)\n",
      "Requirement already satisfied: pytz>=2020.1 in /usr/lib/python3/dist-packages (from pandas) (2022.1)\n",
      "Requirement already satisfied: python-dateutil>=2.8.2 in /home/ztkpat001/.local/lib/python3.10/site-packages (from pandas) (2.8.2)\n",
      "Requirement already satisfied: six>=1.5 in /usr/lib/python3/dist-packages (from python-dateutil>=2.8.2->pandas) (1.16.0)\n",
      "Defaulting to user installation because normal site-packages is not writeable\n",
      "Requirement already satisfied: openai in /home/ztkpat001/.local/lib/python3.10/site-packages (1.7.2)\n",
      "Requirement already satisfied: tqdm>4 in /home/ztkpat001/.local/lib/python3.10/site-packages (from openai) (4.66.1)\n",
      "Requirement already satisfied: httpx<1,>=0.23.0 in /home/ztkpat001/.local/lib/python3.10/site-packages (from openai) (0.25.2)\n",
      "Requirement already satisfied: distro<2,>=1.7.0 in /usr/lib/python3/dist-packages (from openai) (1.7.0)\n",
      "Requirement already satisfied: sniffio in /home/ztkpat001/.local/lib/python3.10/site-packages (from openai) (1.3.0)\n",
      "Requirement already satisfied: typing-extensions<5,>=4.7 in /home/ztkpat001/.local/lib/python3.10/site-packages (from openai) (4.9.0)\n",
      "Requirement already satisfied: anyio<5,>=3.5.0 in /home/ztkpat001/.local/lib/python3.10/site-packages (from openai) (4.2.0)\n",
      "Requirement already satisfied: pydantic<3,>=1.9.0 in /home/ztkpat001/.local/lib/python3.10/site-packages (from openai) (2.5.3)\n",
      "Requirement already satisfied: exceptiongroup>=1.0.2 in /home/ztkpat001/.local/lib/python3.10/site-packages (from anyio<5,>=3.5.0->openai) (1.2.0)\n",
      "Requirement already satisfied: idna>=2.8 in /usr/lib/python3/dist-packages (from anyio<5,>=3.5.0->openai) (3.3)\n",
      "Requirement already satisfied: httpcore==1.* in /home/ztkpat001/.local/lib/python3.10/site-packages (from httpx<1,>=0.23.0->openai) (1.0.2)\n",
      "Requirement already satisfied: certifi in /usr/lib/python3/dist-packages (from httpx<1,>=0.23.0->openai) (2020.6.20)\n",
      "Requirement already satisfied: h11<0.15,>=0.13 in /home/ztkpat001/.local/lib/python3.10/site-packages (from httpcore==1.*->httpx<1,>=0.23.0->openai) (0.14.0)\n",
      "Requirement already satisfied: annotated-types>=0.4.0 in /home/ztkpat001/.local/lib/python3.10/site-packages (from pydantic<3,>=1.9.0->openai) (0.6.0)\n",
      "Requirement already satisfied: pydantic-core==2.14.6 in /home/ztkpat001/.local/lib/python3.10/site-packages (from pydantic<3,>=1.9.0->openai) (2.14.6)\n",
      "Defaulting to user installation because normal site-packages is not writeable\n",
      "Requirement already satisfied: tiktoken in /home/ztkpat001/.local/lib/python3.10/site-packages (0.6.0)\n",
      "Requirement already satisfied: requests>=2.26.0 in /home/ztkpat001/.local/lib/python3.10/site-packages (from tiktoken) (2.31.0)\n",
      "Requirement already satisfied: regex>=2022.1.18 in /home/ztkpat001/.local/lib/python3.10/site-packages (from tiktoken) (2023.12.25)\n",
      "Requirement already satisfied: charset-normalizer<4,>=2 in /home/ztkpat001/.local/lib/python3.10/site-packages (from requests>=2.26.0->tiktoken) (3.3.2)\n",
      "Requirement already satisfied: idna<4,>=2.5 in /usr/lib/python3/dist-packages (from requests>=2.26.0->tiktoken) (3.3)\n",
      "Requirement already satisfied: urllib3<3,>=1.21.1 in /usr/lib/python3/dist-packages (from requests>=2.26.0->tiktoken) (1.26.5)\n",
      "Requirement already satisfied: certifi>=2017.4.17 in /usr/lib/python3/dist-packages (from requests>=2.26.0->tiktoken) (2020.6.20)\n",
      "Defaulting to user installation because normal site-packages is not writeable\n",
      "Requirement already satisfied: python-dotenv in /home/ztkpat001/.local/lib/python3.10/site-packages (1.0.0)\n"
     ]
    }
   ],
   "source": [
    "!pip install PyPDF2\n",
    "!pip install langchain\n",
    "!pip install pypdf \n",
    "!pip install ollama\n",
    "!pip install pandas\n",
    "!pip install openai\n",
    "!pip install tiktoken\n",
    "!pip install python-dotenv"
   ]
  },
  {
   "cell_type": "code",
   "execution_count": 2,
   "metadata": {},
   "outputs": [
    {
     "name": "stdout",
     "output_type": "stream",
     "text": [
      "Defaulting to user installation because normal site-packages is not writeable\n",
      "Processing /home/ztkpat001/repos/pana/dist/pana-1.0-py3-none-any.whl\n",
      "Installing collected packages: pana\n",
      "  Attempting uninstall: pana\n",
      "    Found existing installation: pana 1.0\n",
      "    Uninstalling pana-1.0:\n",
      "      Successfully uninstalled pana-1.0\n",
      "Successfully installed pana-1.0\n"
     ]
    }
   ],
   "source": [
    "!pip install --force-reinstall ~/repos/pana/dist/pana-1.0-py3-none-any.whl"
   ]
  },
  {
   "cell_type": "code",
   "execution_count": 3,
   "metadata": {},
   "outputs": [
    {
     "name": "stdout",
     "output_type": "stream",
     "text": [
      "Initializing pana package...\n"
     ]
    }
   ],
   "source": [
    "import os\n",
    "from dotenv import load_dotenv\n",
    "import json\n",
    "import inspect\n",
    "import numpy as np\n",
    "# import necessary libraries\n",
    "from pana import ModelFactory, PromptFlow\n",
    "from pana.texts import nato_text_short, json_nato_flashcards, json_system_message\n",
    "from pana.lparse import parse_json_string\n",
    "from langchain_community.document_loaders import PyPDFLoader\n",
    "import tiktoken"
   ]
  },
  {
   "cell_type": "markdown",
   "metadata": {},
   "source": [
    "### Models"
   ]
  },
  {
   "cell_type": "code",
   "execution_count": 39,
   "metadata": {},
   "outputs": [
    {
     "name": "stdout",
     "output_type": "stream",
     "text": [
      "Number of chunks: 16\n",
      "02/02/2024, 19:48 The New Invisible Competitors | Wilson Quarterly\n",
      "https://www.wilsonquarterly.com/quarterly/fall-2007-overdrive-competition-in-american-life/the-new-invisible-competitors 2/10Remember the Archie comics? Archie and his conceited rival Reggie battle for\n",
      "the affections of Betty and Veronica, and the two girls, though they are best\n",
      "friends, jockey for the attention of Archie, the affable  all- American boy. They\n",
      "have been at it for more than 60 years, and in the early days the basic situation\n",
      "wasn’t far removed from the experience of many Americans, especially in\n",
      "small towns. Indeed, cartoonist Bob Montana based the Archie characters on\n",
      "people he knew from his high school days during the 1930s in Haverhill,\n",
      "Massachusetts. Most romantic competition occurred within small groups of\n",
      "people who knew one another. The girl or guy would choose, perhaps the\n",
      "couple would marry and settle down, and often the loser ended up living down\n",
      "the street or across town. Romance was full of heartbreak and anxiety, but at\n",
      "least you knew who your rivals were and who was beating  you.\n",
      "Archie and his crowd continue their antics in the world of colored ink, but in\n",
      "the real world, romantic competition has radically changed. Millions of Women\n",
      "Are Waiting to Meet You is the apt title of Sean Thomas’s 2006 book about\n",
      "Internet dating, and there really are, just as millions of men are now potential\n",
      "matches for each woman. But the sad truth for members of both sexes is that\n",
      "millions of rivals are also waiting, waiting to undercut their chances and crush\n",
      "their hopes before they even get close to a first date. All they will “see” is that\n",
      "their charming e-mail to “prettyblonde47” or “bronc0451” was never answered.\n",
      "The competition now is invisible, the rivals  faceless.\n",
      "What’s true in the romantic sphere is also increasingly the case in the wider\n",
      "world. Most of the pressure on the wages and job security of American\n",
      "software programmers now comes from eager workers in India and\n"
     ]
    }
   ],
   "source": [
    "loader = PyPDFLoader(\"data/The_New_Invisible_Competitors.pdf\")\n",
    "pages = loader.load_and_split()\n",
    "pages[0]\n",
    "# Chunk the content into pieces \n",
    "from langchain.text_splitter import RecursiveCharacterTextSplitter\n",
    "text_splitter = RecursiveCharacterTextSplitter(\n",
    "    chunk_size=2000, chunk_overlap=0, add_start_index=True\n",
    ")\n",
    "all_splits = text_splitter.split_documents(pages)\n",
    "print(\"Number of chunks:\", len(all_splits))\n",
    "print(all_splits[1].page_content)"
   ]
  },
  {
   "cell_type": "code",
   "execution_count": 40,
   "metadata": {},
   "outputs": [
    {
     "name": "stdout",
     "output_type": "stream",
     "text": [
      "\n",
      "Madam Speaker, Madam Vice President, our First Lady and Second Gentleman. Members of Congress and the Cabinet. Justices of the Supreme Court. My fellow Americans.\n",
      "\n",
      "Last year COVID-19 kept us apart. This year we are finally together again. \n",
      "\n",
      "Tonight, we meet as Democrats Republicans and Independents. But most importantly as Americans.\n",
      "\n",
      "With a duty to one another to the American people to the Constitution. \n",
      "\n",
      "And with an unwavering resolve that freedom will always triumph over tyranny. \n",
      "\n",
      "Six days ago, Russia’s Vladimir Putin sought to shake the foundations of the free world thinking he could make it bend to his menacing ways. But he badly miscalculated. \n",
      "\n",
      "He thought he could roll into Ukraine and the world would roll over. Instead he met a wall of strength he never imagined.\n",
      "\n",
      "\n",
      "{\"1\":{\"Question\":\"How many members are in the NATO Alliance?\", \"Answer\":\"30\"}, \"2\":{\"Question\":\"What is the name of the Ukrainian President?\", \"Answer\":\"Volodymyr Zelensky\"}, \"3\":{\"Question\":\"Who did the speaker of this speech greet first?\", \"Answer\":\"Madam Speaker\"}, \"4\":{\"Question\":\"Why was, according to the speaker, was NATO created?\", \"Answer\":\"To secure peace in Europe after WW2.\"}, \"5\":{\"Question\":\"Who from Russia is repsonsible for the invasion?\", \"Answer\":\"Vladimir Putin\"}} \n",
      "\n",
      "\n",
      "You are a helpful study assistant. I want you to create flashcards to be used for studying. The cards should obey these axioms:\n",
      "\n",
      "        {card_axioms}        \n",
      "\n",
      "        and have this JSON format:\n",
      "\n",
      "        {json_card_format}\n",
      "\n",
      "\n"
     ]
    }
   ],
   "source": [
    "print(nato_text_short)\n",
    "print(json_nato_flashcards)\n",
    "print(json_system_message)"
   ]
  },
  {
   "cell_type": "code",
   "execution_count": 41,
   "metadata": {},
   "outputs": [
    {
     "name": "stdout",
     "output_type": "stream",
     "text": [
      "[\n",
      "    {\n",
      "        \"role\": \"system\",\n",
      "        \"content\": \"\\nYou are a helpful study assistant. I want you to create flashcards to be used for studying. The cards should obey these axioms:\\n\\n        {card_axioms}        \\n\\n        and have this JSON format:\\n\\n        {json_card_format}\\n\\n\"\n",
      "    }\n",
      "]\n"
     ]
    },
    {
     "data": {
      "text/plain": [
       "[{'role': 'system',\n",
       "  'content': '\\nYou are a helpful study assistant. I want you to create flashcards to be used for studying. The cards should obey these axioms:\\n\\n        {card_axioms}        \\n\\n        and have this JSON format:\\n\\n        {json_card_format}\\n\\n'},\n",
       " {'role': 'user',\n",
       "  'content': '\\n                          \\nMadam Speaker, Madam Vice President, our First Lady and Second Gentleman. Members of Congress and the Cabinet. Justices of the Supreme Court. My fellow Americans.\\n\\nLast year COVID-19 kept us apart. This year we are finally together again. \\n\\nTonight, we meet as Democrats Republicans and Independents. But most importantly as Americans.\\n\\nWith a duty to one another to the American people to the Constitution. \\n\\nAnd with an unwavering resolve that freedom will always triumph over tyranny. \\n\\nSix days ago, Russia’s Vladimir Putin sought to shake the foundations of the free world thinking he could make it bend to his menacing ways. But he badly miscalculated. \\n\\nHe thought he could roll into Ukraine and the world would roll over. Instead he met a wall of strength he never imagined.\\n\\n                          \\n                          Make 5 flashcards from the text above.\\n                          '},\n",
       " {'role': 'assistant',\n",
       "  'content': '\\n{\"1\":{\"Question\":\"How many members are in the NATO Alliance?\", \"Answer\":\"30\"}, \"2\":{\"Question\":\"What is the name of the Ukrainian President?\", \"Answer\":\"Volodymyr Zelensky\"}, \"3\":{\"Question\":\"Who did the speaker of this speech greet first?\", \"Answer\":\"Madam Speaker\"}, \"4\":{\"Question\":\"Why was, according to the speaker, was NATO created?\", \"Answer\":\"To secure peace in Europe after WW2.\"}, \"5\":{\"Question\":\"Who from Russia is repsonsible for the invasion?\", \"Answer\":\"Vladimir Putin\"}} \\n'}]"
      ]
     },
     "execution_count": 41,
     "metadata": {},
     "output_type": "execute_result"
    }
   ],
   "source": [
    "json_flow = PromptFlow(\"json_flow\", \"Original flow with JSON output now\")\n",
    "json_flow.add_system_message(json_system_message)\n",
    "print(json_flow)\n",
    "json_flow.add_interaction(\"user\",\n",
    "                          f\"\"\"\n",
    "                          {nato_text_short}\n",
    "                          \n",
    "                          Make 5 flashcards from the text above.\n",
    "                          \"\"\"\n",
    "                          )\n",
    "json_flow.add_interaction(\"assistant\", json_nato_flashcards)\n",
    "json_flow.save_to_file()\n",
    "json_flow.flow\n",
    "#json_flow.save_to_file()"
   ]
  },
  {
   "cell_type": "code",
   "execution_count": 42,
   "metadata": {},
   "outputs": [
    {
     "name": "stdout",
     "output_type": "stream",
     "text": [
      "[\n",
      "    {\n",
      "        \"role\": \"system\",\n",
      "        \"content\": \"\\nYou are a helpful study assistant. I want you to create flashcards to be used for studying. The cards should obey these axioms:\\n\\n        {card_axioms}        \\n\\n        and have this JSON format:\\n\\n        {json_card_format}\\n\\n\"\n",
      "    },\n",
      "    {\n",
      "        \"role\": \"user\",\n",
      "        \"content\": \"\\n                          \\nMadam Speaker, Madam Vice President, our First Lady and Second Gentleman. Members of Congress and the Cabinet. Justices of the Supreme Court. My fellow Americans.\\n\\nLast year COVID-19 kept us apart. This year we are finally together again. \\n\\nTonight, we meet as Democrats Republicans and Independents. But most importantly as Americans.\\n\\nWith a duty to one another to the American people to the Constitution. \\n\\nAnd with an unwavering resolve that freedom will always triumph over tyranny. \\n\\nSix days ago, Russia\\u2019s Vladimir Putin sought to shake the foundations of the free world thinking he could make it bend to his menacing ways. But he badly miscalculated. \\n\\nHe thought he could roll into Ukraine and the world would roll over. Instead he met a wall of strength he never imagined.\\n\\n                          \\n                          Make 5 flashcards from the text above.\\n                          \"\n",
      "    },\n",
      "    {\n",
      "        \"role\": \"assistant\",\n",
      "        \"content\": \"\\n{\\\"1\\\":{\\\"Question\\\":\\\"How many members are in the NATO Alliance?\\\", \\\"Answer\\\":\\\"30\\\"}, \\\"2\\\":{\\\"Question\\\":\\\"What is the name of the Ukrainian President?\\\", \\\"Answer\\\":\\\"Volodymyr Zelensky\\\"}, \\\"3\\\":{\\\"Question\\\":\\\"Who did the speaker of this speech greet first?\\\", \\\"Answer\\\":\\\"Madam Speaker\\\"}, \\\"4\\\":{\\\"Question\\\":\\\"Why was, according to the speaker, was NATO created?\\\", \\\"Answer\\\":\\\"To secure peace in Europe after WW2.\\\"}, \\\"5\\\":{\\\"Question\\\":\\\"Who from Russia is repsonsible for the invasion?\\\", \\\"Answer\\\":\\\"Vladimir Putin\\\"}} \\n\"\n",
      "    },\n",
      "    {\n",
      "        \"role\": \"user\",\n",
      "        \"content\": \"\\n    Based on the following text:\\n\\n    Bangladesh. Hardly anyone saw this challenge coming. When those\\nBangladeshis were learning programming skills and clever ways to sell their\\nservices over the Internet, they never issued a challenge or threw down a\\ngauntlet. And it is not just programmers, factory workers, and call center\\nemployees who face new challengers. Invisible competition now touches even\\nthose who make their living with paintbrushes and shovels. At Guru.com and\\nother websites, it\\u2019s easy for anybody anywhere in the world to hire specialists\\noverseas for a wide variety of services, from designing integrated circuits to\\ncomposing advertising jingles. You can hire somebody to paint your portrait or\\nto draw up a landscape design for your house. The upshot is this: Competition\\n\\n    Make 10 flash cards.\\n\"\n",
      "    }\n",
      "]\n"
     ]
    }
   ],
   "source": [
    "i = 2\n",
    "json_flow_temp = json_flow\n",
    "json_flow_temp.add_interaction(\"user\", \n",
    "f\"\"\"\n",
    "    Based on the following text:\n",
    "\n",
    "    {all_splits[i].page_content}\n",
    "\n",
    "    Make 10 flash cards.\n",
    "\"\"\"\n",
    ")\n",
    "print(json_flow_temp)"
   ]
  },
  {
   "cell_type": "code",
   "execution_count": null,
   "metadata": {},
   "outputs": [],
   "source": []
  },
  {
   "cell_type": "code",
   "execution_count": 43,
   "metadata": {},
   "outputs": [
    {
     "data": {
      "text/plain": [
       "'Bangladesh. Hardly anyone saw this challenge coming'"
      ]
     },
     "execution_count": 43,
     "metadata": {},
     "output_type": "execute_result"
    }
   ],
   "source": [
    "encoding = tiktoken.encoding_for_model(\"gpt-3.5-turbo\")\n",
    "pg = all_splits[i].page_content\n",
    "e = encoding.encode(pg)\n",
    "encoding.decode(e[0:10])\n",
    "#print(all_splits[i].page_content[10:100])"
   ]
  },
  {
   "cell_type": "code",
   "execution_count": 44,
   "metadata": {},
   "outputs": [],
   "source": [
    "load_dotenv()\n",
    "OPENAI_API_KEY = os.environ.get(\"OPENAI_API_KEY\")\n",
    "model = ModelFactory.get_model(\"gpt-3.5-turbo-0125\", api_key=OPENAI_API_KEY)"
   ]
  },
  {
   "cell_type": "code",
   "execution_count": 63,
   "metadata": {},
   "outputs": [
    {
     "name": "stdout",
     "output_type": "stream",
     "text": [
      "Established connection with gpt-3.5-turbo-0125\n"
     ]
    }
   ],
   "source": [
    "response = model.make_call(json_flow_temp.flow)"
   ]
  },
  {
   "cell_type": "code",
   "execution_count": 64,
   "metadata": {},
   "outputs": [
    {
     "name": "stdout",
     "output_type": "stream",
     "text": [
      "ChatCompletion(id='chatcmpl-94nu5JP7TPgSfBZu6t7FUksq8TLBg', choices=[Choice(finish_reason='stop', index=0, logprobs=None, message=ChatCompletionMessage(content='\\n{\"1\":{\"Question\":\"Where do some software programmers now come from?\", \"Answer\":\"India and Bangladesh\"}, \"2\":{\"Question\":\"What has made it easy to hire specialists from overseas?\", \"Answer\":\"Websites like Guru.com\"}, \"3\":{\"Question\":\"What kind of skills were the Bangladeshis learning?\", \"Answer\":\"Programming skills and clever ways to sell services online\"}, \"4\":{\"Question\":\"What is one of the examples of services you can hire specialists for overseas?\", \"Answer\":\"Designing integrated circuits\"}, \"5\":{\"Question\":\"What kind of workers face new challengers, according to the text?\", \"Answer\":\"Factory workers, call center employees, painters, and shovel workers\"}, \"6\":{\"Question\":\"Where can you hire someone to draw up a landscape design for your house?\", \"Answer\":\"Websites like Guru.com\"}, \"7\":{\"Question\":\"What is the main theme of the text regarding competition?\", \"Answer\":\"Competition is becoming global and accessible through online platforms\"}, \"8\":{\"Question\":\"What country are some eager workers in addition to India now coming from?\", \"Answer\":\"Bangladesh\"}, \"9\":{\"Question\":\"What kind of competition is described as touching even those who make their living with paintbrushes and shovels?\", \"Answer\":\"Invisible competition\"}, \"10\":{\"Question\":\"What services can you hire overseas specialists for other than designing integrated circuits?\", \"Answer\":\"Composing advertising jingles, painting portraits, and more\"}}', role='assistant', function_call=None, tool_calls=None))], created=1710932169, model='gpt-3.5-turbo-0125', object='chat.completion', system_fingerprint='fp_4f0b692a78', usage=CompletionUsage(completion_tokens=291, prompt_tokens=553, total_tokens=844))\n"
     ]
    }
   ],
   "source": [
    "print(response)"
   ]
  },
  {
   "cell_type": "code",
   "execution_count": 65,
   "metadata": {},
   "outputs": [
    {
     "name": "stdout",
     "output_type": "stream",
     "text": [
      "\n",
      "{\"1\":{\"Question\":\"Where do some software programmers now come from?\", \"Answer\":\"India and Bangladesh\"}, \"2\":{\"Question\":\"What has made it easy to hire specialists from overseas?\", \"Answer\":\"Websites like Guru.com\"}, \"3\":{\"Question\":\"What kind of skills were the Bangladeshis learning?\", \"Answer\":\"Programming skills and clever ways to sell services online\"}, \"4\":{\"Question\":\"What is one of the examples of services you can hire specialists for overseas?\", \"Answer\":\"Designing integrated circuits\"}, \"5\":{\"Question\":\"What kind of workers face new challengers, according to the text?\", \"Answer\":\"Factory workers, call center employees, painters, and shovel workers\"}, \"6\":{\"Question\":\"Where can you hire someone to draw up a landscape design for your house?\", \"Answer\":\"Websites like Guru.com\"}, \"7\":{\"Question\":\"What is the main theme of the text regarding competition?\", \"Answer\":\"Competition is becoming global and accessible through online platforms\"}, \"8\":{\"Question\":\"What country are some eager workers in addition to India now coming from?\", \"Answer\":\"Bangladesh\"}, \"9\":{\"Question\":\"What kind of competition is described as touching even those who make their living with paintbrushes and shovels?\", \"Answer\":\"Invisible competition\"}, \"10\":{\"Question\":\"What services can you hire overseas specialists for other than designing integrated circuits?\", \"Answer\":\"Composing advertising jingles, painting portraits, and more\"}}\n",
      "Cards encoding:  [198, 5018, 16, 23118, 14924, 3332, 9241, 656, 1063, 3241, 55946, 1457, 2586, 505, 32111, 330, 16533, 3332, 34648, 323, 39601, 14682, 330, 17, 23118, 14924, 3332, 3923, 706, 1903, 433, 4228, 311, 18467, 35416, 505, 25355, 32111, 330, 16533, 3332, 1687, 11974, 1093, 63079, 916, 14682, 330, 18, 23118, 14924, 3332, 3923, 3169, 315, 7512, 1051, 279, 39601, 285, 6975, 32111, 330, 16533, 3332, 46819, 7512, 323, 28799, 5627, 311, 4662, 3600, 2930, 14682, 330, 19, 23118, 14924, 3332, 3923, 374, 832, 315, 279, 10507, 315, 3600, 499, 649, 18467, 35416, 369, 25355, 32111, 330, 16533, 3332, 21103, 287, 18751, 46121, 14682, 330, 20, 23118, 14924, 3332, 3923, 3169, 315, 7487, 3663, 502, 7449, 388, 11, 4184, 311, 279, 1495, 32111, 330, 16533, 3332, 4246, 7487, 11, 1650, 4219, 8420, 11, 97953, 11, 323, 93091, 7487, 14682, 330, 21, 23118, 14924, 3332, 9241, 649, 499, 18467, 4423, 311, 4128, 709, 264, 18921, 2955, 369, 701, 3838, 32111, 330, 16533, 3332, 1687, 11974, 1093, 63079, 916, 14682, 330, 22, 23118, 14924, 3332, 3923, 374, 279, 1925, 7057, 315, 279, 1495, 9002, 10937, 32111, 330, 16533, 3332, 1110, 56867, 374, 10671, 3728, 323, 15987, 1555, 2930, 15771, 14682, 330, 23, 23118, 14924, 3332, 3923, 3224, 527, 1063, 24450, 7487, 304, 5369, 311, 6890, 1457, 5108, 505, 32111, 330, 16533, 3332, 63919, 35221, 14682, 330, 24, 23118, 14924, 3332, 3923, 3169, 315, 10937, 374, 7633, 439, 31687, 1524, 1884, 889, 1304, 872, 5496, 449, 6308, 37161, 288, 323, 559, 869, 2053, 32111, 330, 16533, 3332, 644, 12887, 10937, 14682, 330, 605, 23118, 14924, 3332, 3923, 3600, 649, 499, 18467, 25355, 35416, 369, 1023, 1109, 30829, 18751, 46121, 32111, 330, 16533, 3332, 1110, 8478, 13172, 503, 50703, 11, 19354, 59234, 11, 323, 810, 32075]\n",
      "Length of cards encoding:  291\n"
     ]
    }
   ],
   "source": [
    "print(response.choices[0].message.content)\n",
    "cards = response.choices[0].message.content\n",
    "cards_encoding = encoding.encode(cards)\n",
    "print(\"Cards encoding: \", cards_encoding)\n",
    "print(\"Length of cards encoding: \", len(cards_encoding))"
   ]
  },
  {
   "cell_type": "code",
   "execution_count": 71,
   "metadata": {},
   "outputs": [
    {
     "name": "stdout",
     "output_type": "stream",
     "text": [
      "29.372727272727275\n"
     ]
    }
   ],
   "source": [
    "a = np.array([280, 316, 288, 284, 309, 302, 284, 271, 285, 321, 291])\n",
    "print(np.mean(a) / 10)\n"
   ]
  },
  {
   "cell_type": "code",
   "execution_count": 28,
   "metadata": {},
   "outputs": [
    {
     "data": {
      "text/plain": [
       "{'1': {'Question': 'Where do many software programmers come from now?',\n",
       "  'Answer': 'India and Bangladesh'},\n",
       " '2': {'Question': 'What kind of skills were Bangladeshis learning?',\n",
       "  'Answer': 'Programming and clever ways to sell services online'},\n",
       " '3': {'Question': 'What are examples of professions facing new challengers due to invisible competition?',\n",
       "  'Answer': 'Factory workers, call center employees, painters, and shovel workers'},\n",
       " '4': {'Question': 'Where can specialists be hired from easily?',\n",
       "  'Answer': 'Websites like Guru.com'},\n",
       " '5': {'Question': 'What variety of services can specialists be hired for overseas?',\n",
       "  'Answer': 'Designing integrated circuits, composing advertising jingles, painting portraits, drawing landscape designs, etc.'},\n",
       " '6': {'Question': 'Which regions from India and Bangladesh are contributing software programmers?',\n",
       "  'Answer': 'Eager workers'},\n",
       " '7': {'Question': 'What is one potential consequence of this invisible competition?',\n",
       "  'Answer': 'Increased competition in various professions'},\n",
       " '8': {'Question': 'What challenge did those from Bangladesh learning programming skills and selling services online not issue or throw down?',\n",
       "  'Answer': 'A challenge or a gauntlet'},\n",
       " '9': {'Question': 'What makes it easy to hire specialists overseas for a wide variety of services?',\n",
       "  'Answer': 'Websites like Guru.com'},\n",
       " '10': {'Question': 'Who can be hired to draw up a landscape design for a house?',\n",
       "  'Answer': 'Specialists hired overseas'}}"
      ]
     },
     "execution_count": 28,
     "metadata": {},
     "output_type": "execute_result"
    }
   ],
   "source": [
    "json.loads(response.choices[0].message.content) "
   ]
  },
  {
   "cell_type": "code",
   "execution_count": 13,
   "metadata": {},
   "outputs": [],
   "source": [
    "flashcards = parse_json_string(response.choices[0].message.content)"
   ]
  },
  {
   "cell_type": "code",
   "execution_count": 9,
   "metadata": {},
   "outputs": [],
   "source": [
    "from openai import OpenAI"
   ]
  },
  {
   "cell_type": "code",
   "execution_count": 21,
   "metadata": {},
   "outputs": [],
   "source": [
    "def generate_flashcards_batch(msg_chn):\n",
    "    client = OpenAI(api_key=os.environ.get(\"OPENAI_API_KEY\"))\n",
    "    response = client.chat.completions.create(\n",
    "        model=\"gpt-3.5-turbo-0125\",\n",
    "        messages=msg_chn,\n",
    "    )\n",
    "    return response"
   ]
  },
  {
   "cell_type": "code",
   "execution_count": 23,
   "metadata": {},
   "outputs": [],
   "source": [
    "response = generate_flashcards_batch(json_flow_temp.flow)"
   ]
  },
  {
   "cell_type": "code",
   "execution_count": 26,
   "metadata": {},
   "outputs": [
    {
     "name": "stdout",
     "output_type": "stream",
     "text": [
      "\n",
      "{\"1\":{\"Question\":\"Where do some software programmers come from now?\", \"Answer\":\"India and Bangladesh\"}, \"2\":{\"Question\":\"Who never issued a challenge or threw down a gauntlet?\", \"Answer\":\"Bangladeshis\"}, \"3\":{\"Question\":\"What type of workers now face new challengers besides programmers and call center employees?\", \"Answer\":\"Factory workers\"}, \"4\":{\"Question\":\"Where can you hire specialists overseas for a wide variety of services?\", \"Answer\":\"Guru.com and other websites\"}, \"5\":{\"Question\":\"What can you hire somebody to do through online platforms?\", \"Answer\":\"Design integrated circuits or compose advertising jingles\"}, \"6\":{\"Question\":\"What type of design work can someone hire for through online platforms?\", \"Answer\":\"Landscape design for a house\"}, \"7\":{\"Question\":\"What is the main idea of the text regarding competition?\", \"Answer\":\"Competition is becoming global and touching various professions\"}, \"8\":{\"Question\":\"Where did this unexpected challenge in the job market originate from?\", \"Answer\":\"Eager workers in India and Bangladesh\"}, \"9\":{\"Question\":\"In addition to software programmers, factory workers, and call center employees, who else is facing competition from overseas?\", \"Answer\":\"Workers who make their living with paintbrushes and shovels\"}, \"10\":{\"Question\":\"What is the impact of global competition on the job market, according to the text?\", \"Answer\":\"It allows for a wide range of services to be outsourced and accessed easily\"}}\n",
      "[{'role': 'system', 'content': '\\nYou are a helpful study assistant. I want you to create flashcards to be used for studying. The cards should obey these axioms:\\n\\n        {card_axioms}        \\n\\n        and have this JSON format:\\n\\n        {json_card_format}\\n\\n'}, {'role': 'user', 'content': '\\n                          \\nMadam Speaker, Madam Vice President, our First Lady and Second Gentleman. Members of Congress and the Cabinet. Justices of the Supreme Court. My fellow Americans.\\n\\nLast year COVID-19 kept us apart. This year we are finally together again. \\n\\nTonight, we meet as Democrats Republicans and Independents. But most importantly as Americans.\\n\\nWith a duty to one another to the American people to the Constitution. \\n\\nAnd with an unwavering resolve that freedom will always triumph over tyranny. \\n\\nSix days ago, Russia’s Vladimir Putin sought to shake the foundations of the free world thinking he could make it bend to his menacing ways. But he badly miscalculated. \\n\\nHe thought he could roll into Ukraine and the world would roll over. Instead he met a wall of strength he never imagined.\\n\\n                          \\n                          Make 5 flashcards from the text above.\\n                          '}, {'role': 'assistant', 'content': '\\n{\"1\":{\"Question\":\"How many members are in the NATO Alliance?\", \"Answer\":\"30\"}, \"2\":{\"Question\":\"What is the name of the Ukrainian President?\", \"Answer\":\"Volodymyr Zelensky\"}, \"3\":{\"Question\":\"Who did the speaker of this speech greet first?\", \"Answer\":\"Madam Speaker\"}, \"4\":{\"Question\":\"Why was, according to the speaker, was NATO created?\", \"Answer\":\"To secure peace in Europe after WW2.\"}, \"5\":{\"Question\":\"Who from Russia is repsonsible for the invasion?\", \"Answer\":\"Vladimir Putin\"}} \\n'}, {'role': 'user', 'content': '\\n    Based on the following text:\\n\\n    software programmers now comes from eager workers in India and\\nBangladesh. Hardly anyone saw this challenge coming. When those\\nBangladeshis were learning programming skills and clever ways to sell their\\nservices over the Internet, they never issued a challenge or threw down a\\ngauntlet. And it is not just programmers, factory workers, and call center\\nemployees who face new challengers. Invisible competition now touches even\\nthose who make their living with paintbrushes and shovels. At Guru.com and\\nother websites, it’s easy for anybody anywhere in the world to hire specialists\\noverseas for a wide variety of services, from designing integrated circuits to\\ncomposing advertising jingles. You can hire somebody to paint your portrait or\\nto draw up a landscape design for your house. The upshot is this: Competition\\n\\n    Make 10 flash cards.\\n'}]\n"
     ]
    }
   ],
   "source": [
    "print(response.choices[0].message.content)\n",
    "print(json_flow_temp.flow)"
   ]
  },
  {
   "cell_type": "code",
   "execution_count": 47,
   "metadata": {},
   "outputs": [
    {
     "name": "stdout",
     "output_type": "stream",
     "text": [
      "[\n",
      "    {\n",
      "        \"role\": \"system\",\n",
      "        \"content\": \"\\nYou are a helpful study assistant. I want you to create flashcards to be used for studying. The cards should obey these axioms:\\n\\n        {card_axioms}        \\n\\n        and have this JSON format:\\n\\n        {json_card_format}\\n\\n\"\n",
      "    },\n",
      "    {\n",
      "        \"role\": \"user\",\n",
      "        \"content\": \"\\n                          \\nMadam Speaker, Madam Vice President, our First Lady and Second Gentleman. Members of Congress and the Cabinet. Justices of the Supreme Court. My fellow Americans.\\n\\nLast year COVID-19 kept us apart. This year we are finally together again. \\n\\nTonight, we meet as Democrats Republicans and Independents. But most importantly as Americans.\\n\\nWith a duty to one another to the American people to the Constitution. \\n\\nAnd with an unwavering resolve that freedom will always triumph over tyranny. \\n\\nSix days ago, Russia\\u2019s Vladimir Putin sought to shake the foundations of the free world thinking he could make it bend to his menacing ways. But he badly miscalculated. \\n\\nHe thought he could roll into Ukraine and the world would roll over. Instead he met a wall of strength he never imagined.\\n\\n                          \\n                          Make 5 flashcards from the text above.\\n                          \"\n",
      "    },\n",
      "    {\n",
      "        \"role\": \"assistant\",\n",
      "        \"content\": \"\\n{\\\"1\\\":{\\\"Question\\\":\\\"How many members are in the NATO Alliance?\\\", \\\"Answer\\\":\\\"30\\\"}, \\\"2\\\":{\\\"Question\\\":\\\"What is the name of the Ukrainian President?\\\", \\\"Answer\\\":\\\"Volodymyr Zelensky\\\"}, \\\"3\\\":{\\\"Question\\\":\\\"Who did the speaker of this speech greet first?\\\", \\\"Answer\\\":\\\"Madam Speaker\\\"}, \\\"4\\\":{\\\"Question\\\":\\\"Why was, according to the speaker, was NATO created?\\\", \\\"Answer\\\":\\\"To secure peace in Europe after WW2.\\\"}, \\\"5\\\":{\\\"Question\\\":\\\"Who from Russia is repsonsible for the invasion?\\\", \\\"Answer\\\":\\\"Vladimir Putin\\\"}} \\n\"\n",
      "    },\n",
      "    {\n",
      "        \"role\": \"user\",\n",
      "        \"content\": \"\\n        Based on the following text:\\n\\n        02/02/2024, 19:48 The New Invisible Competitors | Wilson Quarterly\\nhttps://www.wilsonquarterly.com/quarterly/fall-2007-overdrive-competition-in-american-life/the-new-invisible-competitors 1/10In our globalized economy, competitors can suddenly appear out of nowhere \\u2014\\nif we can see them at all. The new environment spells trouble for some people,\\nopportunity for others.\\nThe New Invisible\\nCompetitors\\n\\u2013 TYLER COWENTHE WILSON QUARTERLY\\n\\n        Make 10 flash cards.\\n    \"\n",
      "    }\n",
      "]\n",
      "[\n",
      "    {\n",
      "        \"role\": \"system\",\n",
      "        \"content\": \"\\nYou are a helpful study assistant. I want you to create flashcards to be used for studying. The cards should obey these axioms:\\n\\n        {card_axioms}        \\n\\n        and have this JSON format:\\n\\n        {json_card_format}\\n\\n\"\n",
      "    },\n",
      "    {\n",
      "        \"role\": \"user\",\n",
      "        \"content\": \"\\n                          \\nMadam Speaker, Madam Vice President, our First Lady and Second Gentleman. Members of Congress and the Cabinet. Justices of the Supreme Court. My fellow Americans.\\n\\nLast year COVID-19 kept us apart. This year we are finally together again. \\n\\nTonight, we meet as Democrats Republicans and Independents. But most importantly as Americans.\\n\\nWith a duty to one another to the American people to the Constitution. \\n\\nAnd with an unwavering resolve that freedom will always triumph over tyranny. \\n\\nSix days ago, Russia\\u2019s Vladimir Putin sought to shake the foundations of the free world thinking he could make it bend to his menacing ways. But he badly miscalculated. \\n\\nHe thought he could roll into Ukraine and the world would roll over. Instead he met a wall of strength he never imagined.\\n\\n                          \\n                          Make 5 flashcards from the text above.\\n                          \"\n",
      "    },\n",
      "    {\n",
      "        \"role\": \"assistant\",\n",
      "        \"content\": \"\\n{\\\"1\\\":{\\\"Question\\\":\\\"How many members are in the NATO Alliance?\\\", \\\"Answer\\\":\\\"30\\\"}, \\\"2\\\":{\\\"Question\\\":\\\"What is the name of the Ukrainian President?\\\", \\\"Answer\\\":\\\"Volodymyr Zelensky\\\"}, \\\"3\\\":{\\\"Question\\\":\\\"Who did the speaker of this speech greet first?\\\", \\\"Answer\\\":\\\"Madam Speaker\\\"}, \\\"4\\\":{\\\"Question\\\":\\\"Why was, according to the speaker, was NATO created?\\\", \\\"Answer\\\":\\\"To secure peace in Europe after WW2.\\\"}, \\\"5\\\":{\\\"Question\\\":\\\"Who from Russia is repsonsible for the invasion?\\\", \\\"Answer\\\":\\\"Vladimir Putin\\\"}} \\n\"\n",
      "    },\n",
      "    {\n",
      "        \"role\": \"user\",\n",
      "        \"content\": \"\\n        Based on the following text:\\n\\n        02/02/2024, 19:48 The New Invisible Competitors | Wilson Quarterly\\nhttps://www.wilsonquarterly.com/quarterly/fall-2007-overdrive-competition-in-american-life/the-new-invisible-competitors 2/10Remember the Archie comics? Archie and his conceited rival Reggie battle for\\nthe affections of Betty and Veronica, and the two girls, though they are best\\nfriends, jockey for the attention of Archie, the affable  all- American boy. They\\nhave been at it for more than 60 years, and in the early days the basic situation\\nwasn\\u2019t far removed from the experience of many Americans, especially in\\nsmall towns. Indeed, cartoonist Bob Montana based the Archie characters on\\npeople he knew from his high school days during the 1930s in Haverhill,\\nMassachusetts. Most romantic competition occurred within small groups of\\npeople who knew one another. The girl or guy would choose, perhaps the\\ncouple would marry and settle down, and often the loser ended up living down\\nthe street or across town. Romance was full of heartbreak and anxiety, but at\\nleast you knew who your rivals were and who was beating  you.\\nArchie and his crowd continue their antics in the world of colored ink, but in\\nthe real world, romantic competition has radically changed. Millions of Women\\nAre Waiting to Meet You is the apt title of Sean Thomas\\u2019s 2006 book about\\nInternet dating, and there really are, just as millions of men are now potential\\nmatches for each woman. But the sad truth for members of both sexes is that\\nmillions of rivals are also waiting, waiting to undercut their chances and crush\\ntheir hopes before they even get close to a first date. All they will \\u201csee\\u201d is that\\ntheir charming e-mail to \\u201cprettyblonde47\\u201d or \\u201cbronc0451\\u201d was never answered.\\nThe competition now is invisible, the rivals  faceless.\\nWhat\\u2019s true in the romantic sphere is also increasingly the case in the wider\\nworld. Most of the pressure on the wages and job security of American\\nsoftware programmers now comes from eager workers in India and\\n\\n        Make 10 flash cards.\\n    \"\n",
      "    }\n",
      "]\n",
      "[\n",
      "    {\n",
      "        \"role\": \"system\",\n",
      "        \"content\": \"\\nYou are a helpful study assistant. I want you to create flashcards to be used for studying. The cards should obey these axioms:\\n\\n        {card_axioms}        \\n\\n        and have this JSON format:\\n\\n        {json_card_format}\\n\\n\"\n",
      "    },\n",
      "    {\n",
      "        \"role\": \"user\",\n",
      "        \"content\": \"\\n                          \\nMadam Speaker, Madam Vice President, our First Lady and Second Gentleman. Members of Congress and the Cabinet. Justices of the Supreme Court. My fellow Americans.\\n\\nLast year COVID-19 kept us apart. This year we are finally together again. \\n\\nTonight, we meet as Democrats Republicans and Independents. But most importantly as Americans.\\n\\nWith a duty to one another to the American people to the Constitution. \\n\\nAnd with an unwavering resolve that freedom will always triumph over tyranny. \\n\\nSix days ago, Russia\\u2019s Vladimir Putin sought to shake the foundations of the free world thinking he could make it bend to his menacing ways. But he badly miscalculated. \\n\\nHe thought he could roll into Ukraine and the world would roll over. Instead he met a wall of strength he never imagined.\\n\\n                          \\n                          Make 5 flashcards from the text above.\\n                          \"\n",
      "    },\n",
      "    {\n",
      "        \"role\": \"assistant\",\n",
      "        \"content\": \"\\n{\\\"1\\\":{\\\"Question\\\":\\\"How many members are in the NATO Alliance?\\\", \\\"Answer\\\":\\\"30\\\"}, \\\"2\\\":{\\\"Question\\\":\\\"What is the name of the Ukrainian President?\\\", \\\"Answer\\\":\\\"Volodymyr Zelensky\\\"}, \\\"3\\\":{\\\"Question\\\":\\\"Who did the speaker of this speech greet first?\\\", \\\"Answer\\\":\\\"Madam Speaker\\\"}, \\\"4\\\":{\\\"Question\\\":\\\"Why was, according to the speaker, was NATO created?\\\", \\\"Answer\\\":\\\"To secure peace in Europe after WW2.\\\"}, \\\"5\\\":{\\\"Question\\\":\\\"Who from Russia is repsonsible for the invasion?\\\", \\\"Answer\\\":\\\"Vladimir Putin\\\"}} \\n\"\n",
      "    },\n",
      "    {\n",
      "        \"role\": \"user\",\n",
      "        \"content\": \"\\n        Based on the following text:\\n\\n        Bangladesh. Hardly anyone saw this challenge coming. When those\\nBangladeshis were learning programming skills and clever ways to sell their\\nservices over the Internet, they never issued a challenge or threw down a\\ngauntlet. And it is not just programmers, factory workers, and call center\\nemployees who face new challengers. Invisible competition now touches even\\nthose who make their living with paintbrushes and shovels. At Guru.com and\\nother websites, it\\u2019s easy for anybody anywhere in the world to hire specialists\\noverseas for a wide variety of services, from designing integrated circuits to\\ncomposing advertising jingles. You can hire somebody to paint your portrait or\\nto draw up a landscape design for your house. The upshot is this: Competition\\n\\n        Make 10 flash cards.\\n    \"\n",
      "    }\n",
      "]\n",
      "[\n",
      "    {\n",
      "        \"role\": \"system\",\n",
      "        \"content\": \"\\nYou are a helpful study assistant. I want you to create flashcards to be used for studying. The cards should obey these axioms:\\n\\n        {card_axioms}        \\n\\n        and have this JSON format:\\n\\n        {json_card_format}\\n\\n\"\n",
      "    },\n",
      "    {\n",
      "        \"role\": \"user\",\n",
      "        \"content\": \"\\n                          \\nMadam Speaker, Madam Vice President, our First Lady and Second Gentleman. Members of Congress and the Cabinet. Justices of the Supreme Court. My fellow Americans.\\n\\nLast year COVID-19 kept us apart. This year we are finally together again. \\n\\nTonight, we meet as Democrats Republicans and Independents. But most importantly as Americans.\\n\\nWith a duty to one another to the American people to the Constitution. \\n\\nAnd with an unwavering resolve that freedom will always triumph over tyranny. \\n\\nSix days ago, Russia\\u2019s Vladimir Putin sought to shake the foundations of the free world thinking he could make it bend to his menacing ways. But he badly miscalculated. \\n\\nHe thought he could roll into Ukraine and the world would roll over. Instead he met a wall of strength he never imagined.\\n\\n                          \\n                          Make 5 flashcards from the text above.\\n                          \"\n",
      "    },\n",
      "    {\n",
      "        \"role\": \"assistant\",\n",
      "        \"content\": \"\\n{\\\"1\\\":{\\\"Question\\\":\\\"How many members are in the NATO Alliance?\\\", \\\"Answer\\\":\\\"30\\\"}, \\\"2\\\":{\\\"Question\\\":\\\"What is the name of the Ukrainian President?\\\", \\\"Answer\\\":\\\"Volodymyr Zelensky\\\"}, \\\"3\\\":{\\\"Question\\\":\\\"Who did the speaker of this speech greet first?\\\", \\\"Answer\\\":\\\"Madam Speaker\\\"}, \\\"4\\\":{\\\"Question\\\":\\\"Why was, according to the speaker, was NATO created?\\\", \\\"Answer\\\":\\\"To secure peace in Europe after WW2.\\\"}, \\\"5\\\":{\\\"Question\\\":\\\"Who from Russia is repsonsible for the invasion?\\\", \\\"Answer\\\":\\\"Vladimir Putin\\\"}} \\n\"\n",
      "    },\n",
      "    {\n",
      "        \"role\": \"user\",\n",
      "        \"content\": \"\\n        Based on the following text:\\n\\n        02/02/2024, 19:48 The New Invisible Competitors | Wilson Quarterly\\nhttps://www.wilsonquarterly.com/quarterly/fall-2007-overdrive-competition-in-american-life/the-new-invisible-competitors 3/10is fiercer than ever before, yet it is also harder to perceive as real. No rival with\\nsnarling teeth knocks on your  door.\\nAny good horror-movie director knows that invisibility increases anxiety. We\\nall want to turn on the light, identify the assailant, or understand the problem\\nwe are facing. If we cannot, we clutch at straws. We look for order, even when\\norder cannot be found; this is a theme of Nassim Nicholas Taleb, author of the\\nbest-selling books The Black Swan (2007) and Fooled by Randomness (2005). As\\nthe concrete manifestations of the more important contests of love and\\nbusiness vanish, we recreate  up- close rivalry to make our lives feel more real. I\\nsuspect that this helps explain the growing appetite for televised sports and\\norganized athletics for children as well as the vogue for reality TV series such\\nas Survivor and American Idol, eating contests, and even spelling bees. Because\\nchildren are a cheap labor supply and willing to engage in all sorts of behavior\\nfor a chance at a prize or parental approval, they often serve as the vehicle for\\nparents who seek to live out their desire for  head- to- head competition\\nvicariously. Spelling does not interest many people (who sits around\\npracticing?), but bees exemplify the competitive spirit in action. The challenge\\nto spell autochthonous, panmyelo pathy, or warison will bring one kid to tears\\nand another to  triumph.\\nMore significantly, anxiety about invisible competition also feeds the backlash\\nagainst international trade. Economists are right to stress that the benefits of\\ntrade outweigh the costs, most of all to Bangladeshis but also to American\\nconsumers, yet an increasingly disquieted public demands more proof. A\\nmeasure of reassurance can found by sorting through the winners and losers\\n\\n        Make 10 flash cards.\\n    \"\n",
      "    }\n",
      "]\n"
     ]
    }
   ],
   "source": [
    "msg_chn_batches = []\n",
    "for i in range(4):\n",
    "    json_flow_temp = PromptFlow.load_from_file(\"json_flow\")\n",
    "    json_flow_temp.add_interaction(\"user\", \n",
    "    f\"\"\"\n",
    "        Based on the following text:\n",
    "\n",
    "        {all_splits[i].page_content}\n",
    "\n",
    "        Make 10 flash cards.\n",
    "    \"\"\"\n",
    "    )\n",
    "    msg_chn_batches.append(json_flow_temp.flow)\n",
    "    print(json_flow_temp)"
   ]
  },
  {
   "cell_type": "code",
   "execution_count": 48,
   "metadata": {},
   "outputs": [
    {
     "data": {
      "text/plain": [
       "[[{'role': 'system',\n",
       "   'content': '\\nYou are a helpful study assistant. I want you to create flashcards to be used for studying. The cards should obey these axioms:\\n\\n        {card_axioms}        \\n\\n        and have this JSON format:\\n\\n        {json_card_format}\\n\\n'},\n",
       "  {'role': 'user',\n",
       "   'content': '\\n                          \\nMadam Speaker, Madam Vice President, our First Lady and Second Gentleman. Members of Congress and the Cabinet. Justices of the Supreme Court. My fellow Americans.\\n\\nLast year COVID-19 kept us apart. This year we are finally together again. \\n\\nTonight, we meet as Democrats Republicans and Independents. But most importantly as Americans.\\n\\nWith a duty to one another to the American people to the Constitution. \\n\\nAnd with an unwavering resolve that freedom will always triumph over tyranny. \\n\\nSix days ago, Russia’s Vladimir Putin sought to shake the foundations of the free world thinking he could make it bend to his menacing ways. But he badly miscalculated. \\n\\nHe thought he could roll into Ukraine and the world would roll over. Instead he met a wall of strength he never imagined.\\n\\n                          \\n                          Make 5 flashcards from the text above.\\n                          '},\n",
       "  {'role': 'assistant',\n",
       "   'content': '\\n{\"1\":{\"Question\":\"How many members are in the NATO Alliance?\", \"Answer\":\"30\"}, \"2\":{\"Question\":\"What is the name of the Ukrainian President?\", \"Answer\":\"Volodymyr Zelensky\"}, \"3\":{\"Question\":\"Who did the speaker of this speech greet first?\", \"Answer\":\"Madam Speaker\"}, \"4\":{\"Question\":\"Why was, according to the speaker, was NATO created?\", \"Answer\":\"To secure peace in Europe after WW2.\"}, \"5\":{\"Question\":\"Who from Russia is repsonsible for the invasion?\", \"Answer\":\"Vladimir Putin\"}} \\n'},\n",
       "  {'role': 'user',\n",
       "   'content': '\\n        Based on the following text:\\n\\n        02/02/2024, 19:48 The New Invisible Competitors | Wilson Quarterly\\nhttps://www.wilsonquarterly.com/quarterly/fall-2007-overdrive-competition-in-american-life/the-new-invisible-competitors 1/10In our globalized economy, competitors can suddenly appear out of nowhere —\\nif we can see them at all. The new environment spells trouble for some people,\\nopportunity for others.\\nThe New Invisible\\nCompetitors\\n– TYLER COWENTHE WILSON QUARTERLY\\n\\n        Make 10 flash cards.\\n    '}],\n",
       " [{'role': 'system',\n",
       "   'content': '\\nYou are a helpful study assistant. I want you to create flashcards to be used for studying. The cards should obey these axioms:\\n\\n        {card_axioms}        \\n\\n        and have this JSON format:\\n\\n        {json_card_format}\\n\\n'},\n",
       "  {'role': 'user',\n",
       "   'content': '\\n                          \\nMadam Speaker, Madam Vice President, our First Lady and Second Gentleman. Members of Congress and the Cabinet. Justices of the Supreme Court. My fellow Americans.\\n\\nLast year COVID-19 kept us apart. This year we are finally together again. \\n\\nTonight, we meet as Democrats Republicans and Independents. But most importantly as Americans.\\n\\nWith a duty to one another to the American people to the Constitution. \\n\\nAnd with an unwavering resolve that freedom will always triumph over tyranny. \\n\\nSix days ago, Russia’s Vladimir Putin sought to shake the foundations of the free world thinking he could make it bend to his menacing ways. But he badly miscalculated. \\n\\nHe thought he could roll into Ukraine and the world would roll over. Instead he met a wall of strength he never imagined.\\n\\n                          \\n                          Make 5 flashcards from the text above.\\n                          '},\n",
       "  {'role': 'assistant',\n",
       "   'content': '\\n{\"1\":{\"Question\":\"How many members are in the NATO Alliance?\", \"Answer\":\"30\"}, \"2\":{\"Question\":\"What is the name of the Ukrainian President?\", \"Answer\":\"Volodymyr Zelensky\"}, \"3\":{\"Question\":\"Who did the speaker of this speech greet first?\", \"Answer\":\"Madam Speaker\"}, \"4\":{\"Question\":\"Why was, according to the speaker, was NATO created?\", \"Answer\":\"To secure peace in Europe after WW2.\"}, \"5\":{\"Question\":\"Who from Russia is repsonsible for the invasion?\", \"Answer\":\"Vladimir Putin\"}} \\n'},\n",
       "  {'role': 'user',\n",
       "   'content': '\\n        Based on the following text:\\n\\n        02/02/2024, 19:48 The New Invisible Competitors | Wilson Quarterly\\nhttps://www.wilsonquarterly.com/quarterly/fall-2007-overdrive-competition-in-american-life/the-new-invisible-competitors 2/10Remember the Archie comics? Archie and his conceited rival Reggie battle for\\nthe affections of Betty and Veronica, and the two girls, though they are best\\nfriends, jockey for the attention of Archie, the affable  all- American boy. They\\nhave been at it for more than 60 years, and in the early days the basic situation\\nwasn’t far removed from the experience of many Americans, especially in\\nsmall towns. Indeed, cartoonist Bob Montana based the Archie characters on\\npeople he knew from his high school days during the 1930s in Haverhill,\\nMassachusetts. Most romantic competition occurred within small groups of\\npeople who knew one another. The girl or guy would choose, perhaps the\\ncouple would marry and settle down, and often the loser ended up living down\\nthe street or across town. Romance was full of heartbreak and anxiety, but at\\nleast you knew who your rivals were and who was beating  you.\\nArchie and his crowd continue their antics in the world of colored ink, but in\\nthe real world, romantic competition has radically changed. Millions of Women\\nAre Waiting to Meet You is the apt title of Sean Thomas’s 2006 book about\\nInternet dating, and there really are, just as millions of men are now potential\\nmatches for each woman. But the sad truth for members of both sexes is that\\nmillions of rivals are also waiting, waiting to undercut their chances and crush\\ntheir hopes before they even get close to a first date. All they will “see” is that\\ntheir charming e-mail to “prettyblonde47” or “bronc0451” was never answered.\\nThe competition now is invisible, the rivals  faceless.\\nWhat’s true in the romantic sphere is also increasingly the case in the wider\\nworld. Most of the pressure on the wages and job security of American\\nsoftware programmers now comes from eager workers in India and\\n\\n        Make 10 flash cards.\\n    '}],\n",
       " [{'role': 'system',\n",
       "   'content': '\\nYou are a helpful study assistant. I want you to create flashcards to be used for studying. The cards should obey these axioms:\\n\\n        {card_axioms}        \\n\\n        and have this JSON format:\\n\\n        {json_card_format}\\n\\n'},\n",
       "  {'role': 'user',\n",
       "   'content': '\\n                          \\nMadam Speaker, Madam Vice President, our First Lady and Second Gentleman. Members of Congress and the Cabinet. Justices of the Supreme Court. My fellow Americans.\\n\\nLast year COVID-19 kept us apart. This year we are finally together again. \\n\\nTonight, we meet as Democrats Republicans and Independents. But most importantly as Americans.\\n\\nWith a duty to one another to the American people to the Constitution. \\n\\nAnd with an unwavering resolve that freedom will always triumph over tyranny. \\n\\nSix days ago, Russia’s Vladimir Putin sought to shake the foundations of the free world thinking he could make it bend to his menacing ways. But he badly miscalculated. \\n\\nHe thought he could roll into Ukraine and the world would roll over. Instead he met a wall of strength he never imagined.\\n\\n                          \\n                          Make 5 flashcards from the text above.\\n                          '},\n",
       "  {'role': 'assistant',\n",
       "   'content': '\\n{\"1\":{\"Question\":\"How many members are in the NATO Alliance?\", \"Answer\":\"30\"}, \"2\":{\"Question\":\"What is the name of the Ukrainian President?\", \"Answer\":\"Volodymyr Zelensky\"}, \"3\":{\"Question\":\"Who did the speaker of this speech greet first?\", \"Answer\":\"Madam Speaker\"}, \"4\":{\"Question\":\"Why was, according to the speaker, was NATO created?\", \"Answer\":\"To secure peace in Europe after WW2.\"}, \"5\":{\"Question\":\"Who from Russia is repsonsible for the invasion?\", \"Answer\":\"Vladimir Putin\"}} \\n'},\n",
       "  {'role': 'user',\n",
       "   'content': '\\n        Based on the following text:\\n\\n        Bangladesh. Hardly anyone saw this challenge coming. When those\\nBangladeshis were learning programming skills and clever ways to sell their\\nservices over the Internet, they never issued a challenge or threw down a\\ngauntlet. And it is not just programmers, factory workers, and call center\\nemployees who face new challengers. Invisible competition now touches even\\nthose who make their living with paintbrushes and shovels. At Guru.com and\\nother websites, it’s easy for anybody anywhere in the world to hire specialists\\noverseas for a wide variety of services, from designing integrated circuits to\\ncomposing advertising jingles. You can hire somebody to paint your portrait or\\nto draw up a landscape design for your house. The upshot is this: Competition\\n\\n        Make 10 flash cards.\\n    '}],\n",
       " [{'role': 'system',\n",
       "   'content': '\\nYou are a helpful study assistant. I want you to create flashcards to be used for studying. The cards should obey these axioms:\\n\\n        {card_axioms}        \\n\\n        and have this JSON format:\\n\\n        {json_card_format}\\n\\n'},\n",
       "  {'role': 'user',\n",
       "   'content': '\\n                          \\nMadam Speaker, Madam Vice President, our First Lady and Second Gentleman. Members of Congress and the Cabinet. Justices of the Supreme Court. My fellow Americans.\\n\\nLast year COVID-19 kept us apart. This year we are finally together again. \\n\\nTonight, we meet as Democrats Republicans and Independents. But most importantly as Americans.\\n\\nWith a duty to one another to the American people to the Constitution. \\n\\nAnd with an unwavering resolve that freedom will always triumph over tyranny. \\n\\nSix days ago, Russia’s Vladimir Putin sought to shake the foundations of the free world thinking he could make it bend to his menacing ways. But he badly miscalculated. \\n\\nHe thought he could roll into Ukraine and the world would roll over. Instead he met a wall of strength he never imagined.\\n\\n                          \\n                          Make 5 flashcards from the text above.\\n                          '},\n",
       "  {'role': 'assistant',\n",
       "   'content': '\\n{\"1\":{\"Question\":\"How many members are in the NATO Alliance?\", \"Answer\":\"30\"}, \"2\":{\"Question\":\"What is the name of the Ukrainian President?\", \"Answer\":\"Volodymyr Zelensky\"}, \"3\":{\"Question\":\"Who did the speaker of this speech greet first?\", \"Answer\":\"Madam Speaker\"}, \"4\":{\"Question\":\"Why was, according to the speaker, was NATO created?\", \"Answer\":\"To secure peace in Europe after WW2.\"}, \"5\":{\"Question\":\"Who from Russia is repsonsible for the invasion?\", \"Answer\":\"Vladimir Putin\"}} \\n'},\n",
       "  {'role': 'user',\n",
       "   'content': '\\n        Based on the following text:\\n\\n        02/02/2024, 19:48 The New Invisible Competitors | Wilson Quarterly\\nhttps://www.wilsonquarterly.com/quarterly/fall-2007-overdrive-competition-in-american-life/the-new-invisible-competitors 3/10is fiercer than ever before, yet it is also harder to perceive as real. No rival with\\nsnarling teeth knocks on your  door.\\nAny good horror-movie director knows that invisibility increases anxiety. We\\nall want to turn on the light, identify the assailant, or understand the problem\\nwe are facing. If we cannot, we clutch at straws. We look for order, even when\\norder cannot be found; this is a theme of Nassim Nicholas Taleb, author of the\\nbest-selling books The Black Swan (2007) and Fooled by Randomness (2005). As\\nthe concrete manifestations of the more important contests of love and\\nbusiness vanish, we recreate  up- close rivalry to make our lives feel more real. I\\nsuspect that this helps explain the growing appetite for televised sports and\\norganized athletics for children as well as the vogue for reality TV series such\\nas Survivor and American Idol, eating contests, and even spelling bees. Because\\nchildren are a cheap labor supply and willing to engage in all sorts of behavior\\nfor a chance at a prize or parental approval, they often serve as the vehicle for\\nparents who seek to live out their desire for  head- to- head competition\\nvicariously. Spelling does not interest many people (who sits around\\npracticing?), but bees exemplify the competitive spirit in action. The challenge\\nto spell autochthonous, panmyelo pathy, or warison will bring one kid to tears\\nand another to  triumph.\\nMore significantly, anxiety about invisible competition also feeds the backlash\\nagainst international trade. Economists are right to stress that the benefits of\\ntrade outweigh the costs, most of all to Bangladeshis but also to American\\nconsumers, yet an increasingly disquieted public demands more proof. A\\nmeasure of reassurance can found by sorting through the winners and losers\\n\\n        Make 10 flash cards.\\n    '}]]"
      ]
     },
     "execution_count": 48,
     "metadata": {},
     "output_type": "execute_result"
    }
   ],
   "source": [
    "batch_response = generate_flashcards_batch(msg_chn_batches)"
   ]
  },
  {
   "cell_type": "code",
   "execution_count": null,
   "metadata": {},
   "outputs": [],
   "source": []
  }
 ],
 "metadata": {
  "kernelspec": {
   "display_name": "Python 3",
   "language": "python",
   "name": "python3"
  },
  "language_info": {
   "codemirror_mode": {
    "name": "ipython",
    "version": 3
   },
   "file_extension": ".py",
   "mimetype": "text/x-python",
   "name": "python",
   "nbconvert_exporter": "python",
   "pygments_lexer": "ipython3",
   "version": "3.10.12"
  }
 },
 "nbformat": 4,
 "nbformat_minor": 2
}
